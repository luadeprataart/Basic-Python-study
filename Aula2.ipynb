{
  "nbformat": 4,
  "nbformat_minor": 0,
  "metadata": {
    "colab": {
      "name": "Aula2",
      "provenance": [],
      "authorship_tag": "ABX9TyNFU2RyUGhY2tgtU+F8yxhj",
      "include_colab_link": true
    },
    "kernelspec": {
      "name": "python3",
      "display_name": "Python 3"
    },
    "language_info": {
      "name": "python"
    }
  },
  "cells": [
    {
      "cell_type": "markdown",
      "metadata": {
        "id": "view-in-github",
        "colab_type": "text"
      },
      "source": [
        "<a href=\"https://colab.research.google.com/github/luadeprataart/Basic-Python-study/blob/main/Aula2.ipynb\" target=\"_parent\"><img src=\"https://colab.research.google.com/assets/colab-badge.svg\" alt=\"Open In Colab\"/></a>"
      ]
    },
    {
      "cell_type": "markdown",
      "source": [
        "# Classes em Python\n",
        "\n",
        "Nesta aula vamos aprender a como criar uma classe e como definir um construtor, para usar seus atributos e funções."
      ],
      "metadata": {
        "id": "S_2rRGgGBeSf"
      }
    },
    {
      "cell_type": "code",
      "source": [
        "class Carro: #Definindo a classe\n",
        "\n",
        " #Criando um construtor\n",
        " def __init__(self,cor='Preto',velocidade=0):  \n",
        "\n",
        "  self.velocidadeAtual = velocidade\n",
        "  self.cor = cor\n",
        "\n",
        " #Criando funções \n",
        " def Acelera(self):\n",
        "    self.velocidadeAtual += 1\n",
        "\n",
        " def Freia(self):\n",
        "    self.velocidadeAtual -= 1 \n",
        "\n",
        " def mudardeCor(self, cor):\n",
        "    self.cor = cor\n",
        "\n",
        " def retornaVelocidadeatual (self):\n",
        "    return self.velocidadeAtual\n",
        "\n",
        " def retornaCor (self):\n",
        "    return self.cor\n"
      ],
      "metadata": {
        "id": "kXIJPIat6o5P"
      },
      "execution_count": 19,
      "outputs": []
    },
    {
      "cell_type": "markdown",
      "source": [
        "# Vamos usar a classe agora."
      ],
      "metadata": {
        "id": "956-oulmBNpo"
      }
    },
    {
      "cell_type": "code",
      "source": [
        "#Criando uma instância da classe\n",
        "meuCarro = Carro('Rosa',80)\n",
        "\n",
        "#Chamar mudar cor do carro\n",
        "print('Cor atual: ', meuCarro.retornaCor())\n",
        "\n",
        "meuCarro.mudardeCor('verde')\n",
        "print('Cor atual: ', meuCarro.retornaCor())\n",
        "\n",
        "#Acelerar o carro \n",
        "meuCarro.Acelera()\n",
        "print('Velocidade Atual: ', meuCarro.retornaVelocidadeatual())\n",
        "\n",
        "#Freiar o carro \n",
        "meuCarro.Freia()\n",
        "print('Velocidade Atual: ', meuCarro.retornaVelocidadeatual())\n"
      ],
      "metadata": {
        "colab": {
          "base_uri": "https://localhost:8080/"
        },
        "id": "n2ni4Hs67cNI",
        "outputId": "9ff14b56-8bf3-4caa-d181-3a7bcd76d9aa"
      },
      "execution_count": 20,
      "outputs": [
        {
          "output_type": "stream",
          "name": "stdout",
          "text": [
            "Cor atual:  Rosa\n",
            "Cor atual:  verde\n",
            "Velocidade Atual:  81\n",
            "Velocidade Atual:  80\n"
          ]
        }
      ]
    },
    {
      "cell_type": "markdown",
      "source": [
        "# Agora, vamos iniciar a classe sem definir previamente seus atributos."
      ],
      "metadata": {
        "id": "GW8ZwsdDA9-d"
      }
    },
    {
      "cell_type": "code",
      "source": [
        "#Criando uma instância da classe\n",
        "meuCarro2 = Carro()\n",
        "\n",
        "#Chamar mudar cor do carro\n",
        "print('Cor atual: ', meuCarro2.retornaCor())\n",
        "\n",
        "meuCarro2.mudardeCor('verde')\n",
        "print('Cor atual: ', meuCarro2.retornaCor())\n",
        "\n",
        "#Acelerar o carro \n",
        "meuCarro2.Acelera()\n",
        "print('Velocidade Atual: ', meuCarro2.retornaVelocidadeatual())\n",
        "\n",
        "#Freiar o carro \n",
        "meuCarro2.Freia()\n",
        "print('Velocidade Atual: ', meuCarro2.retornaVelocidadeatual())\n"
      ],
      "metadata": {
        "colab": {
          "base_uri": "https://localhost:8080/"
        },
        "id": "DwOvWeniAxUd",
        "outputId": "bcc116c1-610a-4311-d6de-497afa5a098c"
      },
      "execution_count": 21,
      "outputs": [
        {
          "output_type": "stream",
          "name": "stdout",
          "text": [
            "Cor atual:  Preto\n",
            "Cor atual:  verde\n",
            "Velocidade Atual:  1\n",
            "Velocidade Atual:  0\n"
          ]
        }
      ]
    }
  ]
}