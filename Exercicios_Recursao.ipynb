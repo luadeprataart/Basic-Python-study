{
  "nbformat": 4,
  "nbformat_minor": 0,
  "metadata": {
    "colab": {
      "name": "Exercicios_Recursao.ipynb",
      "provenance": [],
      "authorship_tag": "ABX9TyPwlgdcv5ELDfc85zN2ztst",
      "include_colab_link": true
    },
    "kernelspec": {
      "name": "python3",
      "display_name": "Python 3"
    },
    "language_info": {
      "name": "python"
    }
  },
  "cells": [
    {
      "cell_type": "markdown",
      "metadata": {
        "id": "view-in-github",
        "colab_type": "text"
      },
      "source": [
        "<a href=\"https://colab.research.google.com/github/luadeprataart/Basic-Python-study/blob/main/Exercicios_Recursao.ipynb\" target=\"_parent\"><img src=\"https://colab.research.google.com/assets/colab-badge.svg\" alt=\"Open In Colab\"/></a>"
      ]
    },
    {
      "cell_type": "markdown",
      "source": [
        "# Exercício 1\n",
        "\n",
        "Faça uma função recursiva que receba um número inteiro \n",
        "positivo N e retorne o super-fatorial desse número. O super-\n",
        "fatorial de um número N é definido pelo produto dos N \n",
        "primeiros fatoriais de N. Assim, o super-fatorial de 4 é:\n",
        "\n",
        "• sf(4) = 1! ∗ 2! ∗ 3! ∗ 4! = 288\n"
      ],
      "metadata": {
        "id": "osGgSfSf7qTE"
      }
    },
    {
      "cell_type": "code",
      "execution_count": 86,
      "metadata": {
        "id": "qCqU_noe7Xl7"
      },
      "outputs": [],
      "source": [
        "def calculaSuperF(n): \n",
        "    \n",
        "    if (n < 2): \n",
        "      return 1\n",
        "\n",
        "    return calculaF(n) * calculaSuperF(n-1)   \n",
        "\n",
        "def calculaF(n): \n",
        "    if (n == 1): \n",
        "      return 1\n",
        "    return n * calculaF(n-1)  \n",
        "\n"
      ]
    },
    {
      "cell_type": "code",
      "source": [
        "print(calculaSuperF(4))"
      ],
      "metadata": {
        "colab": {
          "base_uri": "https://localhost:8080/"
        },
        "id": "f5T6R5zT8wsV",
        "outputId": "b7d8d62c-c8f4-432d-f1ec-b36b7e801372"
      },
      "execution_count": 87,
      "outputs": [
        {
          "output_type": "stream",
          "name": "stdout",
          "text": [
            "288\n"
          ]
        }
      ]
    },
    {
      "cell_type": "markdown",
      "source": [
        "# Exercício 2\n",
        "Crie uma função recursiva que retorne a multiplicação de \n",
        "dois números naturais, através de somas sucessivas\n",
        "\n",
        " (Ex.: 6*4 \n",
        "= 4 + 4 + 4 + 4 + 4 + 4)."
      ],
      "metadata": {
        "id": "uMaju069_Xqo"
      }
    },
    {
      "cell_type": "code",
      "source": [
        "def multi(a,b):\n",
        "  if ( b == 1):\n",
        "    return a\n",
        "  return a + multi(a,b-1)\n"
      ],
      "metadata": {
        "id": "befNAEZQ_e8u"
      },
      "execution_count": 23,
      "outputs": []
    },
    {
      "cell_type": "code",
      "source": [
        "  print(multi(6,4))"
      ],
      "metadata": {
        "colab": {
          "base_uri": "https://localhost:8080/"
        },
        "id": "aB8l21-OAUFn",
        "outputId": "a1f97c6e-a06b-47de-eea7-0cfcf05a6e68"
      },
      "execution_count": 22,
      "outputs": [
        {
          "output_type": "stream",
          "name": "stdout",
          "text": [
            "24\n"
          ]
        }
      ]
    },
    {
      "cell_type": "markdown",
      "source": [
        "# Exercício 3\n",
        "\n",
        "Escreva uma função recursiva que calcule a soma dos \n",
        "primeiros n cubos:\n",
        "\n",
        "![image.png](data:image/png;base64,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)\n",
        "\n"
      ],
      "metadata": {
        "id": "xr1eQwZ9AX5d"
      }
    },
    {
      "cell_type": "code",
      "source": [
        "def soma(n):\n",
        "  if (n==1):\n",
        "   return 1\n",
        "  return (n*n*n) + soma(n-1)"
      ],
      "metadata": {
        "id": "tV0B5u4rAujF"
      },
      "execution_count": 24,
      "outputs": []
    },
    {
      "cell_type": "code",
      "source": [
        "  print(soma(3))"
      ],
      "metadata": {
        "colab": {
          "base_uri": "https://localhost:8080/"
        },
        "id": "PF8vh9_ZBPQM",
        "outputId": "82c1dda3-822c-421d-d1f6-d818d221169c"
      },
      "execution_count": 26,
      "outputs": [
        {
          "output_type": "stream",
          "name": "stdout",
          "text": [
            "36\n"
          ]
        }
      ]
    },
    {
      "cell_type": "markdown",
      "source": [
        "# Exercício 4\n",
        "\n",
        "Faça uma função recursiva que receba um número inteiro \n",
        "positivo N e imprima todos os números naturais de 0 até N \n",
        "em ordem decrescente e crescente.\n"
      ],
      "metadata": {
        "id": "e4OjNXITBjUb"
      }
    },
    {
      "cell_type": "code",
      "source": [
        "def imprimeNatural(n):\n",
        "  if(n == 0):\n",
        "    return print(n)\n",
        "  imprimeNatural(n-1)  \n",
        "  return print(n)"
      ],
      "metadata": {
        "id": "erHsbYdoBqMM"
      },
      "execution_count": 81,
      "outputs": []
    },
    {
      "cell_type": "code",
      "source": [
        "imprimeNatural(5)"
      ],
      "metadata": {
        "colab": {
          "base_uri": "https://localhost:8080/"
        },
        "id": "pQT2yM81CZ25",
        "outputId": "ad606b7b-53c4-401e-b676-2c566d5c90f4"
      },
      "execution_count": 82,
      "outputs": [
        {
          "output_type": "stream",
          "name": "stdout",
          "text": [
            "0\n",
            "1\n",
            "2\n",
            "3\n",
            "4\n",
            "5\n"
          ]
        }
      ]
    },
    {
      "cell_type": "code",
      "source": [
        "def imprimeNaturaldes(n,controle =0):\n",
        "  if(controle == n+1):\n",
        "    return 0\n",
        "  imprimeNaturaldes(n, controle+1)  \n",
        "  return print(controle)\n",
        "  "
      ],
      "metadata": {
        "id": "xnnAJX30FuQQ"
      },
      "execution_count": 73,
      "outputs": []
    },
    {
      "cell_type": "code",
      "source": [
        "imprimeNaturaldes(5)"
      ],
      "metadata": {
        "colab": {
          "base_uri": "https://localhost:8080/"
        },
        "id": "Ocvg8NcwFudu",
        "outputId": "a80552c5-08f6-4195-a2c9-0c6d620db148"
      },
      "execution_count": 74,
      "outputs": [
        {
          "output_type": "stream",
          "name": "stdout",
          "text": [
            "5\n",
            "4\n",
            "3\n",
            "2\n",
            "1\n",
            "0\n"
          ]
        }
      ]
    }
  ]
}