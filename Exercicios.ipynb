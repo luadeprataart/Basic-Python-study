{
  "nbformat": 4,
  "nbformat_minor": 0,
  "metadata": {
    "colab": {
      "name": "Exercicios.ipynb",
      "provenance": [],
      "collapsed_sections": [],
      "authorship_tag": "ABX9TyP4zpgnr+FFppfQEfshfhta",
      "include_colab_link": true
    },
    "kernelspec": {
      "name": "python3",
      "display_name": "Python 3"
    },
    "language_info": {
      "name": "python"
    }
  },
  "cells": [
    {
      "cell_type": "markdown",
      "metadata": {
        "id": "view-in-github",
        "colab_type": "text"
      },
      "source": [
        "<a href=\"https://colab.research.google.com/github/luadeprataart/Basic-Python-study/blob/main/Exercicios.ipynb\" target=\"_parent\"><img src=\"https://colab.research.google.com/assets/colab-badge.svg\" alt=\"Open In Colab\"/></a>"
      ]
    },
    {
      "cell_type": "markdown",
      "source": [
        "# Exercício 1\n",
        "Cria uma função que recebe uma lista como entrada e inverte ela. Isto é, o \n",
        "primeiro elemento se torna o último, o segundo se torna o penúltimo e assim por \n",
        "diante. Obs: não use funções prontas do Python para isso.\n",
        "\n",
        "Depois, teste essa lista da seguinte forma: peça para o usuário digitar uma lista \n",
        "com N elementos e passe essa lista como entrada da função acima.\n",
        "\n",
        "Por fim, insira uma célula de texto abaixo do algoritmo e faça uma análise da \n",
        "complexidade da função, informando a quantidade de operações de cada linha da \n",
        "função. No fim, informe quando a complexidade assintótica da função completa \n",
        "(O)."
      ],
      "metadata": {
        "id": "nKM6AzCiPMsk"
      }
    },
    {
      "cell_type": "code",
      "execution_count": null,
      "metadata": {
        "id": "v9AZiZKTPLf9"
      },
      "outputs": [],
      "source": [
        "class criaLista: \n",
        "\n",
        " def __init__(self, lista = ['Orquidea','Rosas','Hortênsia' ]): \n",
        "   self.listaEnviada = lista; \n",
        "   self.listaInvertida = []\n",
        "\n",
        " def devolveLista(self):\n",
        "   return self.listaEnviada  \n",
        "\n",
        " def inverteLista(self):\n",
        "\n",
        "   i = len( self.listaEnviada)-1 # O(2)\n",
        "\n",
        "   while (i >= 0):# O(log n)\n",
        "     self.listaInvertida.append(self.listaEnviada[i]) # O(1)\n",
        "     i = i - 1 # O(2)\n",
        "     \n",
        "   return self.listaInvertida\n",
        "    \n"
      ]
    },
    {
      "cell_type": "code",
      "source": [
        "lista = []\n",
        "lista.append (input('Digite um item desta lista : '))\n",
        "controle = False\n",
        "while controle == False:  \n",
        "  aux = int(input('Deseja parar de adicionar itens a lista? S(1)/N(2) '))\n",
        "  print(aux)\n",
        "  if (aux == 1):\n",
        "    controle = True\n",
        "  else:\n",
        "     lista.append (input('Digite um item desta lista : '))\n",
        "\n",
        "minhaLista = criaLista(lista)\n",
        "\n",
        "print(minhaLista.devolveLista())\n",
        "print(minhaLista.inverteLista())"
      ],
      "metadata": {
        "colab": {
          "base_uri": "https://localhost:8080/"
        },
        "id": "UxPXitwoQ8nm",
        "outputId": "4dfaaf10-c427-492c-8a4c-ada0b461cbef"
      },
      "execution_count": null,
      "outputs": [
        {
          "output_type": "stream",
          "name": "stdout",
          "text": [
            "Digite um item desta lista : Rosas\n",
            "Deseja parar de adicionar itens a lista? S(1)/N(2) 2\n",
            "2\n",
            "Digite um item desta lista : Cravos\n",
            "Deseja parar de adicionar itens a lista? S(1)/N(2) 2\n",
            "2\n",
            "Digite um item desta lista : Flor de maio\n",
            "Deseja parar de adicionar itens a lista? S(1)/N(2) 2\n",
            "2\n",
            "Digite um item desta lista : Margarida\n",
            "Deseja parar de adicionar itens a lista? S(1)/N(2) 1\n",
            "1\n",
            "['Rosas', 'Cravos', 'Flor de maio', 'Margarida']\n",
            "['Margarida', 'Flor de maio', 'Cravos', 'Rosas']\n"
          ]
        }
      ]
    },
    {
      "cell_type": "markdown",
      "source": [
        "# Exercício 2\n",
        "Crie um programa que calcule o número de operações executadas considerando \n",
        "quatro diferentes complexidades assintóticas: O(n), O(n^2), O(n^3), O(2^n) e O(nlogn). \n",
        "Guarde o número de operações calculadas em uma lista.\n",
        "\n",
        "Depois disso, crie o código que armazene os valores calculados em um arquivo \n",
        ".csv, usando o seguinte formato:\n",
        "![image.png](data:image/png;base64,iVBORw0KGgoAAAANSUhEUgAAAdgAAACRCAYAAABg+amJAAAAAXNSR0IArs4c6QAAAARnQU1BAACxjwv8YQUAAAAJcEhZcwAAEnQAABJ0Ad5mH3gAABbySURBVHhe7d3PaxtnGsDxx/tX2OAcBGVvvrgsWIZeDKXQWyVcsHxYSo7pZU1udnJw5Fs2t1y2hPZQyZAg5bRlS8BQClIOW19yLegQg/1faN9fI81vzYzmlR3v9wNqPYpm5p133nmfed95Z2ZtqggAAKjVX9z/AQBAjQiwAAB4QIAFAMADAiwAAB4QYAEA8IAACwCABwRYAAA8IMACAOABARYAAA8IsAAAeECABQDAg1LPIv7+6Af55dc/3BQAAJ+unb/9Vfo/Hbmp+pUOsF9/ta0+n7tvAAD49OjG4s/nv3kNsHQRAwDgAQEWAAAPCLAAAHhAgAUAwAMCLAAAHhBgAQDwgAALAIAHBFgAADwgwAIA4AEBFgAADwiwAAB4QIAFAMADAiwAAB7UF2Dfn8na2lr+59u+3Lif3zkm/WcydpNemXW1pX/lpm/TVV/az/xs9fiZ331ulh8pY3n7byxnZfJc76Ml035z3o6lL3/9enva5yXXmFOWEuuP7Ocb6X+7Jmfv3WQlOk9Dy0+sI0aXtdLHmE1n6nLN8rLXbbZ/ybK9XBmL50/6fqp+nJQs02nieag+eWWwXJ7afVe6TC+thnypSX0BdudY9Jvvgs91v6W+7Moo9N30dUfW7a9xJ6gD4OhQhm7q02Errt0PPbkOla/r/qXsqu/Tgsb42a5c9l9KZ9N9sYgqz6OtQ3lUqXKwFctGZzta/sfbcvggo8JRgVJvz8uDMkeIWs+LS+n11XJ/TAaXjY5I72Ow/pF0n+6GKsd16bzoyWWz4kmlCew6T6/n2ze9lt4HtY7UIGTL2vb4WJrum0Lev5LDrZ5a7vNYhanKwINDkdn649untvDgpUlPtZOIZcuYnn9XTk5HoXlF7f9Yxa8C3HO1jp4qa69Kp7Mpx7pMHVU7ETTBUuXh9ni+fToftzsb6QFfpfWRLtNPSu3BW7BcvtRKZWphj/7xr+m///NfN5VPBdipCrBTVcF8Gsbd1aXXrKs1VZXfLbue9vZlKqd+tnp0qpa931NrqdOCNKflbdV9+7E3bVWYL3e7zTJl2h27aWM07Sa+K0Bvl1mPnj+8zTaPWv1YClLyRqc18btFUrdhLm37TX1QuizY7dDrMfOH9nlq/ZK2n2d5VEYNZSwtLSnLneV/pXRq8zwqJW0bZtK2335XrqxUmacui/NFx7KDv//TTfmx8gBrDj51cM4+4UJlDly108f2AA5+Y3aQO6jtd8mCkbtclQpbgdn/z34TLkDBAWH+P/9NYgdF0qE+RQ6KyDJV2vvJwp2f/gzxtKQeECN7sCSWG8sLs69coezPlzvb/li+LNwHaj09PR3ZDrv8yHKyKrEsuRWD5tYRq8Si6ylQHowgDxfuibkFwUcz6QnnS1D23OTifWfp5QRpC/+dKTi+wnmXWPdiifTHJfIgJR+D9cbKVSTfzHJc2sJ/Z0ivc4J97SaLqKWMpYv+TqctWE/4b61YGdDKn7wk058Qz4OUshOsd2TyPUhj2jaEUxY75tL2aaRMqOVF6sv68uXeBdjkgekyO9jR7sAMz2fmSf0uNp233GA6vPPdTkwEkNBy4usJfjMvMK6g5uzExHpm2zhPy+L0p3DLyU6Lm05Zd2Ke2XqCecIHiWK2Ifpd6j4ITdv9r76Lpye8TYn0LFakMon+xuZltIItUB6cIuuLMMsJlZk0sd+YvIvs6wL7zkzH019uvVZa/uSxacvfZ7HfxNOqufwO521qmYqVzez12u1I+/dk/uarp4yliW5DfD1p25t//Dpp+ZurSHqjv0nLE/Od+k0izbPfpZWD6L6I73NbLpLH5fy7+vLlngXY9J1qMjjYIWkZ5TI4Ml9kJxRYrvtNdAe4HRXs7PiO1Vx67LJjvw9EfhOXPo/NmzLpT0r99wLpjc4X/03OPPHtDudXah64ZUX2bbywp68vz6J80SJlL22/FikPATN/PChlS5b7FCnlt0hawtuezIe05YRl5bX9Pnu+uEXr0aLrSs2TRcdbSplKz1u3LvXbrHw38y0oM2H1lLEUi/Z75N8Xl4E5u6x4HZIp9XiNC6cvPS2L92u0bOWlPbyeeNky83nIl1UE2BXeptOUYxXQj3f033YAgR6xtvvU/GPEdiM00GOzIapilkbm4JSKy021nbOeiUzeqN38WcNNO5t70t4XOXmXNlTEztP9MjooYL2x7f7Siqd/biwX6t9b3+xFB425tFxO5pf2E+ktID5P84k6EXMDG2ajKpsnZtq4mshQurJntiGwLo0t96e22ZHBdGAHgMxGLm7Iocofn24ml+q/6ft1cXlQTPm7lImvEYkq70wKU9KSt+/MPokMGrTlaJAxSOrm/JHK627KABW7n4Z/Ttx0/SZ/DkX2G5LcmpzjzZSX4Liw1g8GqkEQHyS1Lp3XpqEgU3UI7qaMHjXH2xt1LLrpuuWVsTl1bKtjpjUbBJWyv8xAUXeMOMWOX5W3seO+Xhl1n5a6X9PcyOSD+t9WI1pnqXzYO1Xl7+2F3FxdyECtJ34sNL9UYTLmbuTLYiu9D3Y+5H1XTvbt6Dx15rE0X8tNU6hSDrjKM8FU2nNV0z/Uo/3MfMHHU8AyI0btOnaftuzI1PG80NsKJqnxWXgr7chas5wHhzI0oyuvRZ2NlhJdZo7CB34Rw8IBNnrylGdRhVwjtf/siOKcEbwfJgVHXNpKq4hilWCNdh6q8jRMjKi2ip8k1V/GdNm3I4qzToDqUPgkSdU/hUtpmfqugJWXCcXnyeMiqwuweji6anWp5ro926zrlh1fy82QdTaUWnCyCrJp8TlLpL8VuUVi/qn3INa3gqjW6ux2g+gZtpYVVEzLJaBvt3jjgrNeTsWh/rY1MpCLzMryRi7eqvUmzpSXkdeDEmNOnk7kIueWi/E7lZ+1ngDk0CdHquXUHSf3W0Th/HItXt3icN8kZLREblfxE5p6y5gOrurEV9SJs+fbW4oHL3uSlN7r5ry/UKW4RLkvKDPY1Xq8Rt1GUA+sMMCmdSPars6l+Fpugi2UiQKSW5mkF+RIi69S+jPSoruhVAtxuYcHxKV3c5sgEUgNKq5LyDHbvN+WvfAB6/KulNxWihIE8u9sem3wX6KL1+yfEq3NzY48PlX7/EXGPXjBCdWRO5FyJ2E+urFMz0jz0pzUhLtao+x+KlMJNb/rSetN9n2b4x8PZbjfk4dunaZFWHMXrdm2jIczxLfFlr0SJzR1lTFzKUQF1y11cur1xN8eo8VPaNalc9QVeRq/tzgQnFQ/didlWfVNGe6SUaKnxF3u0vss5RKXFqlrSimbL/VbXYB1lfDz0E32+sZsk3XLHHy+lpsQFMrd0IMCVEHUD2oIVSZR83lmQU8ddI86oZZdpfTbhwS0Imlx82WmpSp3khAOGPqhCOYEwHWdBkEl9NACe83PTSi2VRCulF3e6T8Ld09q+pqbe6hArII1N87HW2s7e+r0pXgXb1zpyllpPrlW7ZVD2Yg/cEG3Jt3DEeYBz12DqrkbSwcgvY8WtlyrVEL6+ui4q/Z3/KEZurWm19uVUSigrH/RVmW83uvYNsjHWpkm8HXlcawHx/SklGoh1VDGdHDVl0L0JR/fD2ZQJ4GXKodLtTZ3jt2DL+In5PokPd7iXpe9b9RJUqnjNCk4MdsIPQzE1nXBPrP15bDzaB74Z3VNhUsqVfKlZisMsPagDF833JWRe+LTEgefr+Wm0YMQPvZEZusqcHaq53GVkZnnwUDa/dBF+6rp1/NF0qLm00+dKXWmPD8ByH6Mn6ts9IHh1rOmjruRWrdJoTvb1INuRqcn5ik3+jcbb9vSC19HNge0OpUI8kHl3eCba3uteXYiUbQFbgeI6CctzdKk1+menBRtrdkAltsdlsl2BYYHk5mW08JHxek8mz/1J0hf0JqMd+GbQRxPL6LBeBmulazN83v+ieSv6QoM9aCYVleBx8yZATnuqT+zZbvjIT4QybRMhjL4fZnqOcaU/7YMVICYrf9FQ64Tg6BsC2neA7OaMmZa8fqP8HETfCo9FjHbze8DFcjnvUPmJKDAOsygMXUcX0bKiHs6V6weMSdJud3mBeh9Fjxxy63PPikrtM9MfWmfeGZ+o+saVT9WEc+XWzEtocxtOkAl427x2w2KMrcOpN/CkcvczhCfbzTtJm51WVbJ2yxqpG9viN8Wcd3vLr7lpCRzS0eJW2Vqo/d9fL13qYwtzd62Et0e9d1p3XmdfgvNKlQrO2n5EnXPbtMBFhu/u6y/S0edFevWdbgbvgjdCpH+w2iLSLX4LmsfNKFaS7qXI+u6rS+mpRvvUtWtdql9H5jnAkuV5+0uw15LnF3vdu5SGVua7hZXORu5LKTHNkjdg4bWzWUp6byqr6clwfYuRHuIxvKqE+1FKiQtX24BARZ3yFguPvjp0mk+0d2ZoWs7i+hrPykP39eVc/uLeqsuQ1fQlV8uUIW9Bp54+L6unLf2ot/VwlbQlV8uUIEZB7A1inXn3qEytjQVkPRlhxfREwjdNbo96xKv0WZHXurLHgsvkVSlTjT1padQF3LQZV3uzoj0fLkNa7oZ6/5e6PujH+Trr7bV53P3DQAAn55ffv1Dfj7/Tfo/Hblv6kcLFgAADwiwAAB4QIAFAMADAiwAAB4QYAEA8IAACwCABwRYAAA8IMACAOABARYAAA8IsAAAeECABQDAAwIsAAAeeAywN9L/tsiLjRd4f1bDC4pvPy3mJcizN0TEX8lUlN2O8HLaq349FgCgEG8BdvxsQw7fuImqrvrSbp64iepuOy06uG50RHofp/oF9+rj3upfMsia7ZCeXJtlqM+4K8POxvInDgCA2nkIsPalubtP3WRFpsX34FCGbrqau5AW/QLrobT6L6UzewelfcG2PH1e4t2RY7lQ2xF5ebR5ybPI5YRWLADcNTUHWB3QduVkX7Wy9Itz3bdl2RbfULrjqQkg1dyVtKxL5/U0+cLgzUa5NF1N5FLN0Yi9KLrxWUuGby+W7EIHANSt5gCrWma66/L1cm+SXz8YmC7Q4x33RSV3KS0pVMAcynYiYGbK+/2biUzcnwCAu8HjICdku5H+ixOR0z11GgAAuI8IsLfg5vyRHL7pyugJ4RUA7isC7Kq9P3Mjio9pvQLAPUaAXSV9H23zRLrjQWhEcUFmUNSlTNJGHe83pOH+BADcDQTYFRk/W1PB9dLcC1tpwJQKsNsyTATYyZ9Dka3GUgO5AAD1I8CugA6u+l7cSi3XmabsnYqcNM9k9ngK1SI2y/2SzmYAuGtWHmDNQxuWfvShfYDEsk8wWklarvry3D3o4qQZfcyh/gTzFUlL88lIunIiu8H8zRNp9a/rv4UIALA0fwF2syODlPtH1w9eSm/LTRTQfJJ2L6t7ElJRt5kWt277iMTkJ0hTsbS4e3tDn8QDLAAAd8Lqu4ivLmQgy18zHL+7LP6Qhiz3MC0AgLth9V3Evw9ke+lrhmO5+NCWvSWD2v1LCwDgrlib6n7Ggr4/+kG+/mpbfT533wAA8On55dc/5Ofz36T/05H7pn6MIgYAwAMCLAAAHhBgAQDwgAALAIAHBFgAADwgwAIA4AEBFgAADwiwAAB4QIAFAMADAiwAAB4QYAEA8IAACwCAB7UHWPPi8NALxdeejd2/lGFfYj5fTlv6V+6fqnp/Vnk542fLpOVG+t+q+QrkQ3Q9xeax2zWfp30ef2W7W3/eb2LLWP4l9ACAWgOsDq4bHZHex+CF4CPpPt0tGWR1cN2Vk9PR7KXi132RwwfLBFm1zOaJ+7scvU27H3py7dIy/diWQYm03Jw/ksM3biKHWc/Troxm6+lJS+VdMmCG6MD4ohFKW0+ksxGZZ/xsQw4llP5xV4bqN2fv3Q/0MlTedMfu36fX6teHskGQBYDlqEq1sEf/+Nf03//5r5uKu5729mXa6quqPGzcnYq0piroFmN+352qQBNily2n0W+LGp2qedWmlkqHMZp21XzRbcrYzjQfe9OWWe+itKcv87rfypkvZ579nvpXzaZfBc8InR/BfCZv4utw6Y7PBwD3hY5lB3//p5vyo8YW7Lp0Xk9lcLDupp3NhqjKuridYxX0jyX66vF1aWy5P8tSLTTTMlQtt9W6kf7RoUh/JCoQLjCRiWrlbjeiebfe2BZ5eqHa3ymuLmTwpiXtL2LzHAxk+rqjcky5msilyv1G7GXwjc9aMnx7YVqozSeq1fok9qJ3tc/UmgEAS/A/yElV8kNVXccr+XJuZPJBtT8/a7jpomzXcKv/MBawi2rKw/48GBkZgS3Odg135fFBgTRnBELrUiZp3dGzfI1er450Kefl/RsV1N2fCbnpAQAU4TnAqlbcixOR072KAc55/0oFq8VBLe7m/Lmc7PfkZbxVXYJpER5NZCMIYg8m8ng6kE5u8BnLq85QuuN4S7w+N5NL9d8T2V27kL3g+ur0Wtpvo9dgqxj/eCjD/bbsEWABoDKvATZoxY3iXZClBK3QlwuCWsxVXx7pAVcvXHdpJW4E7rs9F8D0Z08uVKCdDRJKMX5mB2kd77gvvGlJ72M4iK9L50gPYnqV3q1chOlSV8tdKt8AAP4CrKqo7YjiZVpxOsDZYJW4tpsruP5ZMijHuZZz77vwFthu45MXGaNsg2u+S51UFJXV9Z7RrbyIOilpmxHFi1roAIBF/ATY2a0fy1TUOri6W0zKBitznVTM7SizeztVetQ3cvgg7V7RPOWuYY7f6fXorlu33jW1Dfo2HX270tpZesvSDCoaZgTF9PWbAVCLmAFmGcF2vyGRq8M6uD7QJyXXK2h5A8D9V3uANQ9LaF6ae2ErV9S6steBaWs0HxFbxmZHBrMuXfcxo4h1l2rKSOcq4gHKMaNyI+u+tqOIzX29Wa15tSz1m8tJNPCb66wZ65GdPemqQH4R66q212ZdUM4I3JM/hyJbjVm+moeDqOC6Pa4pbwAA9QZYHVx3n8pyLVfXkhruV2i51m3noQqOJ/I80uJ1A5iO6rxGuS5737RUi/vR/AEW5hryUFrf7GWsJ62r2qZtPmq6KXunqj3dDLWcTRe22kdf2l/Yh4PoeWi5AkCd6guwKiA8VxW3dtIMukfnn2BQkGkt5TwlyIxg1X+8OZyP3A0+s/nsrSl5A42KWJQWM2jo9VQe/xnqal7bVasPt86rpCU5z/rBSxXMbRe2WY8+yYhdeza9A6GnYiVGOLu0hedpPhmZlu6sy9oMGAuCqQ3IWqQ73X2WHY0MAP/P1qa6H7Og749+kK+/2lafz903VdxI/9mF7D1ZsgWoWmJncrxkq+sW01JL+gEAVfzy6x/y8/lv0v/pyH1TP3+jiLPoAUgyv/5X1fjd5fIPQrjFtNSSfgDAnbXyAHvz+0C23fW/6sZy8WH5ByHcXlrqST8A4O66hS5iAABu1/3sIgYA4P8AARYAAA8IsAAAeECABQDAAwIsAAAeEGABAPCAAAsAgAcEWAAAPCDAAgDgAQEWAAAPCLAAAHhAgAUAwAMCLAAAHhBgAQDwgAALAIAHBFgAADwgwAIA4AEBFgAADwiwAAB4QIAFAMADAiwAAB4QYAEA8IAACwCABwRYAAA8qDfAXvWlvdaW/pWblrGcra3J2Xs3qdyct2Xt277cuGkAAO6jegPsZkcG04F0Nt20NOV4OpXjHTeprB8MZPq6I+tuGgCA+4guYgAAPCDAAgDgAQEWAAAPCLAAAHhAgAUAwAMCLAAAHhBgAQDwgAALAIAHa1PF/b3Q90c/yC+//uGmAAD4dO387a/S/+nITdWvVIAFAADF0EUMAIAHBFgAADwgwAIA4AEBFgAADwiwAAB4QIAFAMADAiwAAB4QYAEA8IAACwCABwRYAABqJ/I/I13vjgC2wIsAAAAASUVORK5CYII=)\n",
        "\n",
        "Por fim, crie um gráfico que plote a taxa de crescimento das operações calculadas \n",
        "anteriormente."
      ],
      "metadata": {
        "id": "tjRQhXK6Z1kS"
      }
    },
    {
      "cell_type": "code",
      "source": [
        "import math"
      ],
      "metadata": {
        "id": "oLtlJSrhFp0o"
      },
      "execution_count": 1,
      "outputs": []
    },
    {
      "cell_type": "code",
      "source": [
        "class operação:\n",
        "  def __init__(self,num):\n",
        "    self.num = num\n",
        "\n",
        "  def calculan (self): \n",
        "    n = self.num\n",
        "    return n\n",
        "  def calculan2 (self):\n",
        "    n2 = self.num * self.num\n",
        "    return n2 \n",
        "  def calculan3 (self):\n",
        "    n3 = self.num * self.num * self.num\n",
        "    return n3  \n",
        "  def calcula2n (self):\n",
        "    nn = 1\n",
        "    aux = self.num\n",
        "    while(aux > 0 or aux < 0):\n",
        "      nn = nn * 2\n",
        "      aux = aux -1;\n",
        "    return nn  \n",
        "  def calculanlogn (self):\n",
        "    nlogn = self.num * (math.log( self.num ))\n",
        "    return nlogn\n"
      ],
      "metadata": {
        "id": "DJ90_nIlCym8"
      },
      "execution_count": 55,
      "outputs": []
    },
    {
      "cell_type": "code",
      "source": [
        "def calculaSequencia (num):\n",
        "    minhaLista = operação(num)\n",
        "    resultado = [minhaLista.calculan(), minhaLista.calculan2(),minhaLista.calculan3(),minhaLista.calcula2n(),minhaLista.calculanlogn()]\n",
        "    return resultado"
      ],
      "metadata": {
        "id": "4jkVs6OdkWZW"
      },
      "execution_count": 56,
      "outputs": []
    },
    {
      "cell_type": "code",
      "source": [
        "controle = False\n",
        "num = 0.0\n",
        "variable  = [['O(n)','O(n^2)','O(n^3)','O(2n)','O(nlogn)']]\n",
        "salva = []\n",
        "\n",
        "while(controle == False):\n",
        " \n",
        "  num = int(input('Digite um valor : '))\n",
        " \n",
        "  print( calculaSequencia(num))\n",
        "  variable.append(calculaSequencia(num))\n",
        "  salva.append(calculaSequencia(num))\n",
        "\n",
        "  aux = int(input('Deseja calcular um novo número? S(1)/N(2) '))\n",
        "\n",
        "  if (aux == 2):\n",
        "    controle = True\n",
        "print(variable)"
      ],
      "metadata": {
        "id": "SnL0au7yaEkD",
        "colab": {
          "base_uri": "https://localhost:8080/"
        },
        "outputId": "27665d89-72cc-4482-c1ec-f5738617b354"
      },
      "execution_count": 82,
      "outputs": [
        {
          "output_type": "stream",
          "name": "stdout",
          "text": [
            "Digite um valor : 1\n",
            "[1, 1, 1, 2, 0.0]\n",
            "Deseja calcular um novo número? S(1)/N(2) 1\n",
            "Digite um valor : 6\n",
            "[6, 36, 216, 64, 10.75055681536833]\n",
            "Deseja calcular um novo número? S(1)/N(2) 1\n",
            "Digite um valor : 3\n",
            "[3, 9, 27, 8, 3.295836866004329]\n",
            "Deseja calcular um novo número? S(1)/N(2) 2\n",
            "[['O(n)', 'O(n^2)', 'O(n^3)', 'O(2n)', 'O(nlogn)'], [1, 1, 1, 2, 0.0], [6, 36, 216, 64, 10.75055681536833], [3, 9, 27, 8, 3.295836866004329]]\n"
          ]
        }
      ]
    },
    {
      "cell_type": "code",
      "source": [
        "import os\n",
        "import csv\n",
        "\n",
        "with open ('Example.csv','w',newline = '') as csvfile:\n",
        "    my_writer = csv.writer(csvfile, delimiter = ' ')\n",
        "    my_writer.writerows(variable)"
      ],
      "metadata": {
        "id": "IQ6dEpUzqTFL"
      },
      "execution_count": 83,
      "outputs": []
    },
    {
      "cell_type": "code",
      "source": [
        "import matplotlib.pyplot\n",
        "\n",
        "\n",
        "matplotlib.pyplot.plot(variable[0], salva[0])\n",
        "matplotlib.pyplot.title('Gráfico')\n",
        "matplotlib.pyplot.show()"
      ],
      "metadata": {
        "colab": {
          "base_uri": "https://localhost:8080/",
          "height": 281
        },
        "id": "_XH3KKC4tGpG",
        "outputId": "89284325-af74-425d-da0b-16622ad50407"
      },
      "execution_count": 91,
      "outputs": [
        {
          "output_type": "display_data",
          "data": {
            "text/plain": [
              "<Figure size 432x288 with 1 Axes>"
            ],
            "image/png": "[encoded data removed]"
          },
          "metadata": {
            "needs_background": "light"
          }
        }
      ]
    },
    {
      "cell_type": "markdown",
      "source": [
        "# Exercício 3\n",
        "Elabore um programa em Python que receba 3 notas de um \n",
        "aluno e uma letra. Se a letra for A, o programa deve calcular \n",
        "a média aritmética das notas. Se a letra for P, o programa \n",
        "deve calcular a média ponderada com pesos 5, 3 e 2 para \n",
        "cada nota respectivamente.  Utilize uma função ou funções \n",
        "para realizar o cálculo da média. "
      ],
      "metadata": {
        "id": "zO1ORsmqalZT"
      }
    },
    {
      "cell_type": "code",
      "source": [
        "class calcula: \n",
        "\n",
        " def __init__(self, val1, val2,val3): \n",
        "   self.valor1 = val1\n",
        "   self.valor2 = val2\n",
        "   self.valor3 = val3\n",
        "\n",
        "\n",
        " def A(self):\n",
        "   media = (self.valor1 + self.valor2 + self.valor3) / 3\n",
        "     \n",
        "   return media\n",
        "\n",
        " def P(self):\n",
        "   media = self.valor1*0.5 + self.valor2*0.3 + self.valor3*0.2\n",
        "   \n",
        "   return media  \n",
        "    "
      ],
      "metadata": {
        "id": "G4HS0CKPc_Ni"
      },
      "execution_count": null,
      "outputs": []
    },
    {
      "cell_type": "code",
      "source": [
        "valor1 = float(input('Digite a nota 1: '))\n",
        "valor2 = float(input('Digite a nota 2: '))\n",
        "valor3 = float(input('Digite a nota 3: '))\n",
        "\n",
        "meuCalculo = calcula(valor1,valor2,valor3)\n",
        "\n",
        "letra = input('Digite uma letra (A(Média Aritmética) ou P(Média Ponderada)): ')\n",
        "  \n",
        "if letra == 'A' or letra =='a':\n",
        "  print(meuCalculo.A())\n",
        "elif letra == 'P' or letra =='p':\n",
        "  print(meuCalculo.P())\n",
        "else:\n",
        " print('Letra não encontrada!')  \n",
        "\n"
      ],
      "metadata": {
        "colab": {
          "base_uri": "https://localhost:8080/"
        },
        "id": "0lZbCKfmalrd",
        "outputId": "c3731a52-4a11-4e67-d8cf-41b6a9cfcaef"
      },
      "execution_count": null,
      "outputs": [
        {
          "output_type": "stream",
          "name": "stdout",
          "text": [
            "Digite a nota 1: 9\n",
            "Digite a nota 2: 8\n",
            "Digite a nota 3: 8.5\n",
            "Digite uma letra (A(Média Aritmética) ou P(Média Ponderada)): a\n",
            "8.5\n"
          ]
        }
      ]
    },
    {
      "cell_type": "markdown",
      "source": [
        "# Exercício 4\n",
        "Escreva um programa em Python que leia dois números e \n",
        "realize as seguintes operações utilizando procedimentos:\n",
        "\n",
        "• Imprima qual o maior destes dois números \n",
        "\n",
        "• Imprima a média destes dois numeros"
      ],
      "metadata": {
        "id": "AY4M7t4yeOIR"
      }
    },
    {
      "cell_type": "code",
      "source": [
        "class opera: \n",
        "\n",
        " def __init__(self, val1, val2): \n",
        "   self.valor1 = val1\n",
        "   self.valor2 = val2\n",
        "\n",
        "\n",
        " def imprimeMaior(self):\n",
        "   maior = 0\n",
        "   if(self.valor1 > self.valor2):\n",
        "       maior = self.valor1\n",
        "   else:\n",
        "       maior = self.valor2\n",
        "   \n",
        "   print ('Maior num: ', maior)\n",
        "\n",
        " def imprimeMedia(self):\n",
        "   media = (self.valor1 + self.valor2) / 2\n",
        "   \n",
        "   print ('Media dos num: ', media) "
      ],
      "metadata": {
        "id": "ObYpH9ciecFL"
      },
      "execution_count": null,
      "outputs": []
    },
    {
      "cell_type": "code",
      "source": [
        "val1 = float(input('Digite um número: '))\n",
        "val2 = float(input('Digite outro número: '))\n",
        "\n",
        "operacao = opera(val1,val2)\n",
        "\n",
        "operacao.imprimeMaior()\n",
        "operacao.imprimeMedia()"
      ],
      "metadata": {
        "colab": {
          "base_uri": "https://localhost:8080/"
        },
        "id": "wd5HW_J0eUVZ",
        "outputId": "6f435da2-436a-41ef-a109-4595200c7abe"
      },
      "execution_count": null,
      "outputs": [
        {
          "output_type": "stream",
          "name": "stdout",
          "text": [
            "Digite um número: 9\n",
            "Digite outro número: 4\n",
            "Maior num:  9.0\n",
            "Media dos num:  6.5\n"
          ]
        }
      ]
    },
    {
      "cell_type": "markdown",
      "source": [
        "# Exercício 5\n",
        "\n",
        "Escreva um procedimento que gere um cabeçalho para um relatório. \n",
        "\n",
        "Esse procedimento deve receber uma string como parâmetro. O cabeçalho tem a seguinte forma:\n",
        "============================================ ,\n",
        "\n",
        "Centro Universitário Facens\n",
        "\n",
        "Curso de Engenharia Mecatrônica\n",
        "\n",
        "Disciplina de Complexidade de Algoritmos\n",
        "\n",
        "Nome: Fulano de Tal\n",
        "\n",
        "============================================ ,\n",
        "\n",
        "O nome “Fulano de Tal” corresponde ao parâmetro passado."
      ],
      "metadata": {
        "id": "gnjWwXZmg4mE"
      }
    },
    {
      "cell_type": "code",
      "source": [
        "class cabecalho:\n",
        "  def __init__(self, nome): \n",
        "   self.nome = nome\n",
        "\n",
        "\n",
        "  def geraCabecalho(self):\n",
        "    texto = \"============================================\\nCentro Universitário Facens\\nCurso de Engenharia Mecatrônica\\nDisciplina de Complexidade de Algoritmos\\nNome: \" + self.nome + \"\\n\"+\"============================================\"\n",
        "    return texto\n",
        "   "
      ],
      "metadata": {
        "id": "sPtifgSthR3u"
      },
      "execution_count": null,
      "outputs": []
    },
    {
      "cell_type": "code",
      "source": [
        "nome = input('Digite o nome: ')\n",
        "inicio = cabecalho(nome)\n",
        "print(inicio.geraCabecalho())"
      ],
      "metadata": {
        "colab": {
          "base_uri": "https://localhost:8080/"
        },
        "id": "3iRZnrxuiEg9",
        "outputId": "b05d980e-a303-4bd2-ae24-203a0a156160"
      },
      "execution_count": null,
      "outputs": [
        {
          "output_type": "stream",
          "name": "stdout",
          "text": [
            "Digite o nome: Ana Julia\n",
            "============================================\n",
            "Centro Universitário Facens\n",
            "Curso de Engenharia Mecatrônica\n",
            "Disciplina de Complexidade de Algoritmos\n",
            "Nome: Ana Julia\n",
            "============================================\n"
          ]
        }
      ]
    },
    {
      "cell_type": "markdown",
      "source": [
        "# Exercício 6\n",
        "\n",
        "Escreva um procedimento que receba um número natural e \n",
        "imprima os três primeiros caracteres do dia da semana \n",
        "correspondente ao número.\n",
        "\n",
        " Por exemplo, 7 corresponde à \n",
        "“SAB”. O procedimento deve mostrar uma mensagem de erro \n",
        "caso o número recebido não corresponda à um dia da \n",
        "semana. \n",
        "\n",
        "• A função deve ter um argumento padrão, para que caso a função \n",
        "seja chamada sem nenhum argumento, ela funcione mesmo assim e \n",
        "imprima Dom (Domingo).\n",
        "\n",
        "• Gere também um programa em Python que utilize esse \n",
        "procedimento, chamando-o de duas formas: antes lendo um valor \n",
        "para passagem de parâmetro e outra sem passar nenhum \n",
        "parâmetro ."
      ],
      "metadata": {
        "id": "pwR5nX6bi33F"
      }
    },
    {
      "cell_type": "code",
      "source": [
        "class semana:\n",
        "  def __init__(self,num = 1):\n",
        "    self.num = num \n",
        "\n",
        "  def converteSemana(self):\n",
        "    dias = ['DOM','SEG','TER','QUA','QUI','SEX','SAB']\n",
        "\n",
        "    print(dias[self.num-1])\n",
        "\n"
      ],
      "metadata": {
        "id": "p6TLBniajEL2"
      },
      "execution_count": null,
      "outputs": []
    },
    {
      "cell_type": "code",
      "source": [
        "numero = 0\n",
        "\n",
        "while (numero < 1 or numero > 7):\n",
        "  numero = int(input('Digite um número de 1 a 7: '))\n",
        "\n",
        "  if(numero <1 or numero > 7 ):\n",
        "    print('Erro! Numero incorreto, tente novamente!')\n",
        "  else:\n",
        "     sem = semana(numero)\n",
        "     sem.converteSemana()\n",
        "\n",
        "sem2 = semana()  \n",
        "sem2.converteSemana()"
      ],
      "metadata": {
        "colab": {
          "base_uri": "https://localhost:8080/"
        },
        "id": "Oepn_x181jyL",
        "outputId": "1de0c048-1793-43e3-a923-932255321c18"
      },
      "execution_count": null,
      "outputs": [
        {
          "output_type": "stream",
          "name": "stdout",
          "text": [
            "Digite um número de 1 a 7: 3\n",
            "TER\n",
            "DOM\n"
          ]
        }
      ]
    },
    {
      "cell_type": "markdown",
      "source": [
        "# Exercício 7\n",
        "\n",
        "Faça um programa em Python que verifique se um número é \n",
        "par ou impar. O número é fornecido pelo usuário e \n",
        "identificação deve ser feita por um procedimento.\n"
      ],
      "metadata": {
        "id": "1euVm7ps4TFb"
      }
    },
    {
      "cell_type": "code",
      "source": [
        "class verifica:\n",
        "  def __init__(self,num):\n",
        "    self.numero = num\n",
        "\n",
        "  def parOUimpar(self):\n",
        "    if(self.numero %2 == 0 ):\n",
        "      tipo = \"Par\"\n",
        "      return tipo  \n",
        "    else:\n",
        "      tipo = \"Impar\"\n",
        "      return tipo  "
      ],
      "metadata": {
        "id": "LvfwHd2H4cq3"
      },
      "execution_count": null,
      "outputs": []
    },
    {
      "cell_type": "code",
      "source": [
        "try:\n",
        " num = int(input('Digite um número: '))\n",
        " valor = verifica(num)\n",
        " print(valor.parOUimpar())\n",
        "except:\n",
        "  print(\"O valor digitado não é um inteiro!\") "
      ],
      "metadata": {
        "colab": {
          "base_uri": "https://localhost:8080/"
        },
        "id": "W7OQQKA55QMz",
        "outputId": "978b78e8-4b03-43f7-9bac-59b99c784880"
      },
      "execution_count": null,
      "outputs": [
        {
          "output_type": "stream",
          "name": "stdout",
          "text": [
            "Digite um número: 6\n",
            "Par\n"
          ]
        }
      ]
    },
    {
      "cell_type": "markdown",
      "source": [
        "# Exercício 8\n",
        "\n",
        "Criar um procedimento que verifique quantas vezes um \n",
        "número inteiro x é divisível por um número inteiro y. \n",
        "Escreva também um programa em Python para testar tal \n",
        "função."
      ],
      "metadata": {
        "id": "7HK37cFU69PM"
      }
    },
    {
      "cell_type": "code",
      "source": [
        "class verifica:\n",
        "  def __init__(self,num1,num2):\n",
        "    self.numero1 = num1\n",
        "    self.numero2 = num2\n",
        "\n",
        "  def qtdDivisivel(self):\n",
        "      cont = 0\n",
        "      aux = self.numero1\n",
        "      controle = False\n",
        "      while(controle == False):\n",
        "       aux = aux/self.numero2\n",
        "       cont= cont + 1\n",
        "       if(aux < self.numero2):\n",
        "         controle = True\n",
        "\n",
        "      return cont\n",
        "     "
      ],
      "metadata": {
        "id": "xADSnJQX7DKj"
      },
      "execution_count": null,
      "outputs": []
    },
    {
      "cell_type": "code",
      "source": [
        "try:\n",
        " num1 = int(input('Digite um número: '))\n",
        " num2 = int(input('Digite outro número: '))\n",
        " valor = verifica(num1,num2)\n",
        " print('Quantidade de vezes que o número',num1,'pode ser dividido por',num2,'é:',valor.qtdDivisivel())\n",
        "except:\n",
        "  print(\"O valor digitado não é um inteiro!\") "
      ],
      "metadata": {
        "colab": {
          "base_uri": "https://localhost:8080/"
        },
        "id": "iD-4Noxx7hWV",
        "outputId": "73f97342-755a-48a7-d21f-891618ff978b"
      },
      "execution_count": null,
      "outputs": [
        {
          "output_type": "stream",
          "name": "stdout",
          "text": [
            "Digite um número: 8\n",
            "Digite outro número: 2\n",
            "Quantidade de vezes que o número 8 pode ser dividido por 2 é: 3\n"
          ]
        }
      ]
    },
    {
      "cell_type": "markdown",
      "source": [
        "# Exercício 9\n",
        "\n",
        "Faça um programa em Python que leia o preço antigo de um \n",
        "produto, o novo preço deste e calcule o percentual de \n",
        "aumento do produto. Utilize um procedimento para este \n",
        "cálculo. "
      ],
      "metadata": {
        "id": "limBAKTX-QI8"
      }
    },
    {
      "cell_type": "code",
      "source": [
        "class loja:\n",
        "  def __init__(self,valorN,valorO):\n",
        "    self.New = valorN\n",
        "    self.Old = valorO\n",
        "\n",
        "  def verificaPercentual(self):\n",
        "    percentual = ((self.New - self.Old)  * 100)/self.Old\n",
        "    \n",
        "    return percentual"
      ],
      "metadata": {
        "id": "oTJJ5erF-V70"
      },
      "execution_count": null,
      "outputs": []
    },
    {
      "cell_type": "code",
      "source": [
        "valorOld = float(input('Digite o valor original do produto: '))\n",
        "valorNew= float(input('Digite o novo valor do produto: '))\n",
        "preço = loja(valorNew,valorOld)\n",
        "print('Percentual de aumento do produto é de: ', preço.verificaPercentual(),'%')"
      ],
      "metadata": {
        "colab": {
          "base_uri": "https://localhost:8080/"
        },
        "id": "WNuFxcPI_us-",
        "outputId": "33c34c6c-abdb-4683-d501-b0b88c0aee8c"
      },
      "execution_count": null,
      "outputs": [
        {
          "output_type": "stream",
          "name": "stdout",
          "text": [
            "Digite o valor original do produto: 20\n",
            "Digite o novo valor do produto: 10\n",
            "Percentual de aumento do produto é de:  -50.0 %\n"
          ]
        }
      ]
    },
    {
      "cell_type": "markdown",
      "source": [
        "# Exercício 10\n",
        "\n",
        "Faça um programa em Python que leia uma lista de 10 \n",
        "elementos. Em seguida determine o maior valor da lista. Este \n",
        "maior valor deverá ser impresso na tela por um \n",
        "procedimento.\n"
      ],
      "metadata": {
        "id": "zu1xW04qBsKt"
      }
    },
    {
      "cell_type": "code",
      "source": [
        "class verificaLista:\n",
        "  def __init__(self, lista):\n",
        "    self.lista = lista\n",
        "\n",
        "  def maiorValor(self):\n",
        "    aux = self.lista[0]\n",
        "    for i in range(10):\n",
        "  \n",
        "     if(aux < self.lista[i]):\n",
        "      \n",
        "       aux = self.lista[i]\n",
        "\n",
        "    return aux   \n",
        "\n"
      ],
      "metadata": {
        "id": "RUTXAIEOBxll"
      },
      "execution_count": null,
      "outputs": []
    },
    {
      "cell_type": "code",
      "source": [
        "lista= [None] * 10\n",
        "\n",
        "for i in range(10):\n",
        "  lista[i] = float(input('Digite um número: '))\n",
        "\n",
        "valor = verificaLista(lista)\n",
        "print('O maior valor da lista é: ', valor.maiorValor())"
      ],
      "metadata": {
        "colab": {
          "base_uri": "https://localhost:8080/"
        },
        "id": "oVZGsiRzCseF",
        "outputId": "13a353a3-5c5d-45c9-8748-ae605d4ba971"
      },
      "execution_count": null,
      "outputs": [
        {
          "output_type": "stream",
          "name": "stdout",
          "text": [
            "Digite um número: 80\n",
            "Digite um número: 102.2\n",
            "Digite um número: 102.7\n",
            "Digite um número: 33\n",
            "Digite um número: 1\n",
            "Digite um número: 44\n",
            "Digite um número: 22\n",
            "Digite um número: 77\n",
            "Digite um número: 99\n",
            "Digite um número: 11\n",
            "O maior valor da lista é:  102.7\n"
          ]
        }
      ]
    },
    {
      "cell_type": "markdown",
      "source": [
        "# Exercício 11\n",
        "\n",
        "Crie uma função que realize a conversão de Polegadas (pol) \n",
        "para Centímetros (cm), onde pol é passado como \n",
        "parâmetro e cm é retornado. Sabe-se que 1 polegada está \n",
        "para 2,54 centímetros. Crie também um programa em Python \n",
        "para testar tal função."
      ],
      "metadata": {
        "id": "Awo1J42REz01"
      }
    },
    {
      "cell_type": "code",
      "source": [
        "class conversao:\n",
        "  def __init__(self, pol):\n",
        "    self.pol = pol\n",
        "\n",
        "  def converteCM(self):\n",
        "    cm = (self.pol * 2.54)\n",
        "    return cm"
      ],
      "metadata": {
        "id": "igl38wuAFD38"
      },
      "execution_count": null,
      "outputs": []
    },
    {
      "cell_type": "code",
      "source": [
        "pol = float(input('Digite o valor em polegadas: '))\n",
        "\n",
        "converte = conversao(pol)\n",
        "print('O valor', pol, '(pol) em (cm) é: ', converte.converteCM())"
      ],
      "metadata": {
        "colab": {
          "base_uri": "https://localhost:8080/"
        },
        "id": "KiCNm5ZXFfhm",
        "outputId": "49c30520-2dcf-4d4b-bc10-e425d9b93e9f"
      },
      "execution_count": null,
      "outputs": [
        {
          "output_type": "stream",
          "name": "stdout",
          "text": [
            "Digite o valor em polegadas: 55\n",
            "O valor 55.0 (pol) em (cm) é:  139.7\n"
          ]
        }
      ]
    }
  ]
}