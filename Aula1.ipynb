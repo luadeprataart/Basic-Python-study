{
  "nbformat": 4,
  "nbformat_minor": 0,
  "metadata": {
    "colab": {
      "name": "Aula1",
      "provenance": [],
      "collapsed_sections": [],
      "authorship_tag": "ABX9TyMW7LhNEVK0EKP36aISyJ9c",
      "include_colab_link": true
    },
    "kernelspec": {
      "name": "python3",
      "display_name": "Python 3"
    },
    "language_info": {
      "name": "python"
    }
  },
  "cells": [
    {
      "cell_type": "markdown",
      "metadata": {
        "id": "view-in-github",
        "colab_type": "text"
      },
      "source": [
        "<a href=\"https://colab.research.google.com/github/luadeprataart/Basic-Python-study/blob/main/Aula1.ipynb\" target=\"_parent\"><img src=\"https://colab.research.google.com/assets/colab-badge.svg\" alt=\"Open In Colab\"/></a>"
      ]
    },
    {
      "cell_type": "markdown",
      "source": [
        "# **Python**"
      ],
      "metadata": {
        "id": "DWap7N1b1rV5"
      }
    },
    {
      "cell_type": "markdown",
      "source": [
        "# Trabalhando com Variáveis"
      ],
      "metadata": {
        "id": "uFLDU0Do1tZs"
      }
    },
    {
      "cell_type": "code",
      "execution_count": null,
      "metadata": {
        "colab": {
          "base_uri": "https://localhost:8080/"
        },
        "id": "Q12tgneX1M5J",
        "outputId": "bc1bd46a-d117-4473-e280-f9d7ac486067"
      },
      "outputs": [
        {
          "output_type": "stream",
          "name": "stdout",
          "text": [
            "Isso é um texto\n",
            "3.5\n"
          ]
        }
      ],
      "source": [
        "a = 1.75\n",
        "\n",
        "b = 'Isso é um texto'\n",
        "print(b)\n",
        "\n",
        "b = 3.5\n",
        "print(b)\n",
        "\n",
        "c = '3.75'\n",
        "c = float(c)\n",
        "print(c)"
      ]
    },
    {
      "cell_type": "markdown",
      "source": [
        "Variáveis não precisam ter seu **tipo** declarado de início. Além disso, mudanças de **tipo** de variável podem ser feitas automaticamente em qualquer momento."
      ],
      "metadata": {
        "id": "upMhrL7b2Rol"
      }
    },
    {
      "cell_type": "markdown",
      "source": [
        "# Operações com Strings"
      ],
      "metadata": {
        "id": "c3aceJr03R_O"
      }
    },
    {
      "cell_type": "code",
      "source": [
        "a = \"Seu nome é: \"\n",
        "print(a)\n",
        "\n",
        "# Adiciona texto na String\n",
        "a += \"Ana\"\n",
        "print(a)\n",
        "\n",
        "# Converte para letra maiúscula\n",
        "print(a.upper())\n",
        "\n",
        "# Converte para letra minúscula\n",
        "print(a.lower())\n",
        "\n",
        "# Adicionando um tipo int ou float em uma String\n",
        "b = 10\n",
        "a = \"Você é nota \" + str(b)\n",
        "print(a)\n",
        "\n",
        "# Outra maneira de adicinar um int ou float em uma String\n",
        "b = 10.210387280740237\n",
        "a = \"%s! :D %1.4f\" %(a,b)\n",
        "print(a)\n",
        "\n",
        "print(f\"{b} é um float.\")\n",
        "\n",
        "c = 3\n",
        "print(\"{} é um float. {} é um int\".format(b,c))\n",
        "\n",
        "# Seperando palavras do texto\n",
        "d = 'arroz,feijão,batata,lentilha'\n",
        "lista = d.split(',')\n",
        "print(lista)\n",
        "\n",
        "# Substituindo palavras \n",
        "d = d.replace('feijao', 'lentilha')\n",
        "print(d)\n",
        "\n",
        "#Remover letra da plavra\n",
        "d = d.replace('lh', '')\n",
        "print(d)\n",
        "\n",
        "#Remover letra de uma palavra em especifico \n",
        "lista[1] = lista[1].replace ('lh','')\n",
        "print(lista)\n",
        "\n",
        "#Transformar lista em String\n",
        "g =', '.join(lista)\n",
        "print(d)\n",
        "\n",
        "#Verificar tamanho String\n",
        "print(\"Tamanho da String\",len(d))\n",
        "\n",
        "#Verificar quantidade de itens na lista\n",
        "print(\"Tamanho da String\",len(lista))"
      ],
      "metadata": {
        "colab": {
          "base_uri": "https://localhost:8080/"
        },
        "id": "6vwqO96Q3Rlt",
        "outputId": "c37d17dc-415e-46e3-c752-8b6e03c2426b"
      },
      "execution_count": null,
      "outputs": [
        {
          "output_type": "stream",
          "name": "stdout",
          "text": [
            "Seu nome é: \n",
            "Seu nome é: Ana\n",
            "SEU NOME É: ANA\n",
            "seu nome é: ana\n",
            "Você é nota 10\n",
            "Você é nota 10! :D 10.2104\n",
            "10.210387280740237 é um float.\n",
            "10.210387280740237 é um float. 3 é um int\n",
            "['arroz', 'feijão', 'batata', 'lentilha']\n",
            "arroz,feijão,batata,lentilha\n",
            "arroz,feijão,batata,lentia\n",
            "['arroz', 'feijão', 'batata', 'lentilha']\n",
            "arroz,feijão,batata,lentia\n",
            "Tamanho da String 26\n",
            "Tamanho da String 4\n"
          ]
        }
      ]
    },
    {
      "cell_type": "markdown",
      "source": [
        "# Operações com números"
      ],
      "metadata": {
        "id": "Xo_AZ5Hq-gHX"
      }
    },
    {
      "cell_type": "code",
      "source": [
        "import numpy as np\n",
        "\n",
        "#Soma\n",
        "a = 5\n",
        "b = a + 7\n",
        "print(b)\n",
        "\n",
        "#Multiplicação\n",
        "a = a * a\n",
        "print(a)\n",
        "\n",
        "#Potencia\n",
        "f = 2**3\n",
        "print(f)\n",
        "\n",
        "#Raiz\n",
        "g = np.sqrt(16)\n",
        "print(g)\n",
        "\n",
        "#Verificando se valores são iguais \n",
        "print(a == 5)\n",
        "print(a == 25)\n"
      ],
      "metadata": {
        "colab": {
          "base_uri": "https://localhost:8080/"
        },
        "id": "04mY8YnE9Eal",
        "outputId": "ccda6b1f-a44b-45fc-b442-2c0d2ac448cf"
      },
      "execution_count": null,
      "outputs": [
        {
          "output_type": "stream",
          "name": "stdout",
          "text": [
            "12\n",
            "25\n",
            "8\n",
            "4.0\n",
            "False\n",
            "True\n"
          ]
        }
      ]
    },
    {
      "cell_type": "markdown",
      "source": [
        "# Estrutura de decisão"
      ],
      "metadata": {
        "id": "dLtgHdJTANIb"
      }
    },
    {
      "cell_type": "code",
      "source": [
        "\n",
        "valido = False\n",
        "\n",
        "\n",
        "while not valido:\n",
        " valor = input('Digite um valor: ')\n",
        " try:\n",
        "  valor = float(valor)\n",
        "\n",
        "  if valor < 5:\n",
        "   print('Menor que 5')\n",
        "  elif valor == 5:\n",
        "   print('O valor é 5')  \n",
        "  elif valor >= 10 and valor <= 20:\n",
        "   print('O valor é entre 10 e 20')  \n",
        "  else :\n",
        "   print('Maior que 5')  \n",
        "  \n",
        "  valido = True\n",
        "\n",
        " except:\n",
        "  print(\"Você não digitou um número!\")\n"
      ],
      "metadata": {
        "colab": {
          "base_uri": "https://localhost:8080/"
        },
        "id": "0l6rF9w0ARUj",
        "outputId": "83085e90-548e-4001-e750-37ddf815792e"
      },
      "execution_count": null,
      "outputs": [
        {
          "output_type": "stream",
          "name": "stdout",
          "text": [
            "Digite um valor: ana\n",
            "Você não digitou um número!\n",
            "Digite um valor: juju\n",
            "Você não digitou um número!\n",
            "Digite um valor: 1\n",
            "Menor que 5\n"
          ]
        }
      ]
    },
    {
      "cell_type": "markdown",
      "source": [
        "# Laços de repetição"
      ],
      "metadata": {
        "id": "wz_QTUMxDMc1"
      }
    },
    {
      "cell_type": "markdown",
      "source": [
        "**for**"
      ],
      "metadata": {
        "id": "2Y0Mw3hRFOZh"
      }
    },
    {
      "cell_type": "code",
      "source": [
        "#Imprimindo valores de 0 até 10 \n",
        "for i in range(10):\n",
        "  print(i)\n",
        "\n",
        "#Imprimindo valores de uma lista\n",
        "for i in lista:\n",
        "  print(i)  \n",
        "\n",
        "#Imprimindo valores de 2 até 20 pulando de 2 em 2\n",
        "for i in range(2,20,2):\n",
        "  print(i)\n",
        " "
      ],
      "metadata": {
        "colab": {
          "base_uri": "https://localhost:8080/"
        },
        "id": "thJjgwVqDQBX",
        "outputId": "4a2b2ba6-301b-41a1-f207-08163e09b399"
      },
      "execution_count": null,
      "outputs": [
        {
          "output_type": "stream",
          "name": "stdout",
          "text": [
            "0\n",
            "1\n",
            "2\n",
            "3\n",
            "4\n",
            "5\n",
            "6\n",
            "7\n",
            "8\n",
            "9\n",
            "arroz\n",
            "feijão\n",
            "batata\n",
            "lentilha\n",
            "2\n",
            "4\n",
            "6\n",
            "8\n",
            "10\n",
            "12\n",
            "14\n",
            "16\n",
            "18\n"
          ]
        }
      ]
    },
    {
      "cell_type": "markdown",
      "source": [
        "**while**"
      ],
      "metadata": {
        "id": "X18FK51KFRPb"
      }
    },
    {
      "cell_type": "code",
      "source": [
        "num = 3\n",
        "\n",
        "while num < 10:\n",
        "  print(num)\n",
        "  num =  num +2\n",
        "  "
      ],
      "metadata": {
        "colab": {
          "base_uri": "https://localhost:8080/"
        },
        "id": "rSUtJ-fNFTTb",
        "outputId": "31b767c8-10ff-46ae-edc5-9a121a0e441d"
      },
      "execution_count": null,
      "outputs": [
        {
          "output_type": "stream",
          "name": "stdout",
          "text": [
            "3\n",
            "5\n",
            "7\n",
            "9\n"
          ]
        }
      ]
    },
    {
      "cell_type": "markdown",
      "source": [
        "# Funções"
      ],
      "metadata": {
        "id": "aC0gBJlWFs5m"
      }
    },
    {
      "cell_type": "code",
      "source": [
        "def somar(a,b):\n",
        "  soma = a + b\n",
        "  return soma"
      ],
      "metadata": {
        "id": "iaELZVIbFu2W"
      },
      "execution_count": null,
      "outputs": []
    },
    {
      "cell_type": "code",
      "source": [
        "total =somar(3,2)\n",
        "\n",
        "print(total)"
      ],
      "metadata": {
        "colab": {
          "base_uri": "https://localhost:8080/"
        },
        "id": "eFfzeQF0GEth",
        "outputId": "1123fe72-694f-48de-be3b-b358a21bf92a"
      },
      "execution_count": null,
      "outputs": [
        {
          "output_type": "stream",
          "name": "stdout",
          "text": [
            "5\n"
          ]
        }
      ]
    }
  ]
}