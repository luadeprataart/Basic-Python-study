{
  "nbformat": 4,
  "nbformat_minor": 0,
  "metadata": {
    "colab": {
      "name": "Aula3.ipynb",
      "provenance": [],
      "authorship_tag": "ABX9TyMUAv7a+HYGpi1vssqSXudZ",
      "include_colab_link": true
    },
    "kernelspec": {
      "name": "python3",
      "display_name": "Python 3"
    },
    "language_info": {
      "name": "python"
    }
  },
  "cells": [
    {
      "cell_type": "markdown",
      "metadata": {
        "id": "view-in-github",
        "colab_type": "text"
      },
      "source": [
        "<a href=\"https://colab.research.google.com/github/luadeprataart/Basic-Python-study/blob/main/Aula3.ipynb\" target=\"_parent\"><img src=\"https://colab.research.google.com/assets/colab-badge.svg\" alt=\"Open In Colab\"/></a>"
      ]
    },
    {
      "cell_type": "markdown",
      "source": [
        "# **Pilhas**\n",
        "**Tipo LIFO (Last In, First Out)**"
      ],
      "metadata": {
        "id": "igqWtw1jFz1T"
      }
    },
    {
      "cell_type": "markdown",
      "source": [
        "\n",
        "Estrutura linear de dados que só pode ser\n",
        "acessada por uma de suas extremidades\n",
        "para armazenar e recuperar dados.\n",
        "\n",
        "* Novos elementos sempre entram no topo\n",
        "da pilha;\n",
        "* O único elemento que pode ser retirado da\n",
        "pilha em um dado momento é o elemento\n",
        "do topo;\n",
        "* A outra extremidade da pilha é chamada de\n",
        "base."
      ],
      "metadata": {
        "id": "BgS1E5V1YoEg"
      }
    },
    {
      "cell_type": "markdown",
      "source": [
        "**Para que serve uma pilha?**\n",
        "\n",
        "Uma pilha serve para modelar situações em que é preciso guardar\n",
        "para mais tarde vários elementos e lembrar\n",
        "sempre do último elemento armazenado."
      ],
      "metadata": {
        "id": "4u81EZdhYVkx"
      }
    },
    {
      "cell_type": "markdown",
      "source": [
        "# **Pilha estática**\n",
        "Pilhas que tem seu tamanho fixo.\n"
      ],
      "metadata": {
        "id": "M1Rtk0c2Vnzj"
      }
    },
    {
      "cell_type": "code",
      "execution_count": null,
      "metadata": {
        "id": "t7ZqWzhdFtw8"
      },
      "outputs": [],
      "source": [
        "class Pilha:\n",
        "\n",
        "  def __init__(self, capacity) -> None:\n",
        "   self.top = -1\n",
        "   self.capacity = capacity\n",
        "   self.pilha = [None] * capacity # inicializa a pilha com o tamanho desejado\n",
        " \n",
        "\n",
        "\n",
        "#Função para inserir um elemento na pilha------------------------------------------------------------------------ \n",
        "  def push(self, data): \n",
        "\n",
        "   if self.capacity == self.top + 1: #Condição para a pilha cheia\n",
        "    print(\"Estouro de pilha\")\n",
        "    return\n",
        "\n",
        "   else: \n",
        "     self.top = self.top + 1\n",
        "     self.pilha[self.top] = data\n",
        "     return\n",
        "\n",
        "\n",
        "#Função para retornar e excluir um elemento da pilha------------------------------------------------------------------------ \n",
        "  def pop(self):\n",
        "   if self.top == -1: #Condição para a pilha vazia\n",
        "    print(\"Pilha vazia\")\n",
        "    return\n",
        "\n",
        "   temp = self.pilha[self.top]\n",
        "   self.top = self.top - 1\n",
        "   return temp\n",
        "\n",
        "\n",
        "#Função para retornar o tamanho da pilha------------------------------------------------------------------------ \n",
        "  def size(self):\n",
        "   return self.top+1 \n",
        "\n",
        "\n",
        "#Função para retornar se a pilha está vazia------------------------------------------------------------------------ \n",
        "  def isEmpty(self):\n",
        "   return self.top == -1\n",
        "\n",
        "\n",
        "#Função para retornar se a pilha está cheia------------------------------------------------------------------------ \n",
        "  def isFull(self):\n",
        "   return self.capacity == self.top + 1\n",
        "\n",
        "\n",
        "#Função para retornar o elemento do topo da pilha------------------------------------------------------------------------ \n",
        "  def getTop(self):\n",
        "\n",
        "   if self.isEmpty():#Caso a pilha esteja vazia\n",
        "    print(\"Pilha vazia\")\n",
        "    return None\n",
        "   return self.pilha[self.top]\n",
        "\n",
        "\n",
        "#Função para limpar a pilha------------------------------------------------------------------------ \n",
        "  def clear(self):\n",
        "   self.top = -1\n",
        " \n",
        "#Retorna uma string com as informacoes da pilha quando o objeto e chamado dentro de um print() ou dentro de um str()------------------------------------------------------------------------ \n",
        "  def __str__(self):\n",
        "   auxPilha = Pilha(self.capacity)# cria uma nova pilha auxiliar\n",
        " \n",
        "  # retira os elementos da pilha antiga e preenche a auxiliar com isso, a auxiliar sera preenchida em ordem\n",
        "   for i in range( self.top+1 ):\n",
        "    auxPilha.push( self.pop() )\n",
        " \n",
        "  # cria uma string com os elementos da pilha auxiliar e enquanto isso, preenche novamente a pilha original\n",
        "   strPilha = '['\n",
        "   for i in range( auxPilha.top+1 ):\n",
        "     top = auxPilha.pop() \n",
        "     self.push(top) # preenche a pilha original\n",
        "     strPilha += ' ' + str(top) # guarda o top em uma string\n",
        "   strPilha +=  ']'\n",
        "   return strPilha\n",
        "     "
      ]
    },
    {
      "cell_type": "markdown",
      "source": [
        "Testando a pilha:\n"
      ],
      "metadata": {
        "id": "J2-dMZqWXyOx"
      }
    },
    {
      "cell_type": "code",
      "source": [
        "pilhinha = Pilha(3)\n",
        "pilhinha.push(47)\n",
        "pilhinha.push(30)\n",
        "pilhinha.push(69)\n",
        "\n",
        "print(pilhinha)"
      ],
      "metadata": {
        "colab": {
          "base_uri": "https://localhost:8080/"
        },
        "id": "jSd-_3rjKunZ",
        "outputId": "c3f2a6cd-e27d-4cd4-d4c9-4a9e513cb340"
      },
      "execution_count": null,
      "outputs": [
        {
          "output_type": "stream",
          "name": "stdout",
          "text": [
            "[ 47 30 69]\n"
          ]
        }
      ]
    },
    {
      "cell_type": "code",
      "source": [
        "pilhinha.pop()"
      ],
      "metadata": {
        "colab": {
          "base_uri": "https://localhost:8080/"
        },
        "id": "mctq_3MBTFkp",
        "outputId": "92de6eb5-737d-4bf7-a36a-ada39398c4ef"
      },
      "execution_count": null,
      "outputs": [
        {
          "output_type": "execute_result",
          "data": {
            "text/plain": [
              "69"
            ]
          },
          "metadata": {},
          "execution_count": 27
        }
      ]
    },
    {
      "cell_type": "code",
      "source": [
        "pilhinha.push(69)\n",
        "pilhinha.push(69)"
      ],
      "metadata": {
        "colab": {
          "base_uri": "https://localhost:8080/"
        },
        "id": "UVKqKmqUTHno",
        "outputId": "e6573e44-69ba-426b-9a5e-fa93dc01f2a3"
      },
      "execution_count": null,
      "outputs": [
        {
          "output_type": "stream",
          "name": "stdout",
          "text": [
            "Estouro de pilha\n"
          ]
        }
      ]
    },
    {
      "cell_type": "code",
      "source": [
        "pilhinha.clear()\n",
        "print(pilhinha)"
      ],
      "metadata": {
        "colab": {
          "base_uri": "https://localhost:8080/"
        },
        "id": "RtrNLcEnTtfR",
        "outputId": "a13f7ab8-f7b8-4832-e314-a2b4108c344e"
      },
      "execution_count": null,
      "outputs": [
        {
          "output_type": "stream",
          "name": "stdout",
          "text": [
            "[]\n"
          ]
        }
      ]
    },
    {
      "cell_type": "markdown",
      "source": [
        "# **Pilha Dinâmica**\n",
        "\n",
        "Pilhas que não tem seu tamanho fixo."
      ],
      "metadata": {
        "id": "JXTcgRlhVtvF"
      }
    },
    {
      "cell_type": "code",
      "source": [
        "# Nó de conexão da pilha - Responsável por conecetar os itens que integram a pilha.\n",
        "class Node:\n",
        "    def __init__(self, data = None, next = None):\n",
        "        self.data = data\n",
        "        self.next = next\n",
        "\n",
        "# Criando a classe de pilha dinâmica\n",
        "class Pilha:\n",
        "    \n",
        "    def __init__(self, data  = None):\n",
        "        self.head = None\n",
        "        self.tamanho = 0\n",
        "        \n",
        "        if data is not None:\n",
        "            self.push(data)\n",
        "\n",
        "#Função para inserir um elemento na pilha------------------------------------------------------------------------ \n",
        "    def push(self, data):\n",
        "       \n",
        "        if self.head is None: # se a pilha esta vazia, o element head ira receber o novo noh. Mas, ele ira apontar para None, pois nao existia nenhum noh antes\n",
        "            self.head = Node(data)\n",
        "            \n",
        "        else: # Cria um novo noh com o dado informado e que sera usado como novo topo.Esse novo noh ira apontar para o noh que era o topo antes\n",
        "            temporario = Node(data, self.head)\n",
        "            self.head = temporario # substitui o topo pelo novo noh\n",
        "        \n",
        "        self.tamanho += 1\n",
        "\n",
        "\n",
        "#Função para retorna e remover o elemento do topo da pilha------------------------------------------------------------------------ \n",
        "    def pop(self):\n",
        "        \n",
        "        if self.head is None: # Se a pilha estiver vazia\n",
        "            print(\"Pilha vazia\")\n",
        "            return None\n",
        "        \n",
        "        data = self.head.data # Obtem o valor do topo da pilha no nó\n",
        "        self.head = self.head.next # O número que ele aponta no nó vira o topo\n",
        "        self.tamanho -= 1 # Diminui um do tamnho da pilha\n",
        "\n",
        "        return data # Retorna o item do topo da pilha\n",
        "\n",
        "\n",
        "#Função para retornar a quantidade de elementos da pilha------------------------------------------------------------------------     \n",
        "    def size(self):\n",
        "        return self.tamanho\n",
        "\n",
        "\n",
        "#Função para retornar se a pilha está vazia------------------------------------------------------------------------  \n",
        "    def isEmpty(self):\n",
        "        return self.head is None #O meu topo é None?(True/False)\n",
        "\n",
        "\n",
        "#Função para retornar o topo da pilha------------------------------------------------------------------------ \n",
        "    def getTop(self):\n",
        "        if self.head is None:\n",
        "            print(\"Pilha vazia\")\n",
        "            return None\n",
        "\n",
        "        return self.head.data\n",
        "\n",
        "\n",
        "#Limpa a pilha------------------------------------------------------------------------             \n",
        "    def clear(self):\n",
        "        while not self.isEmpty():\n",
        "            data = self.pop()\n",
        "\n",
        "\n",
        "#Retorna uma string com as informacoes da pilha quando o objeto e chamado dentro de um print() ou dentro de um str()------------------------------------------------------------------------    \n",
        "    def __str__(self):\n",
        "       \n",
        "        auxPilha = Pilha()# cria uma nova pilha auxiliar\n",
        "        \n",
        "        while not self.isEmpty(): # retira os elementos da pilha antiga e preenche a auxiliar com isso, a auxiliar sera preenchida em ordem reversa\n",
        "            data = self.pop()\n",
        "            auxPilha.push( data )\n",
        "            \n",
        "        strPilha = '['   \n",
        "        while not auxPilha.isEmpty(): # cria uma string com os elementos da pilha auxiliar e enquanto isso, preenche novamente a pilha original\n",
        "            top = auxPilha.pop()\n",
        "            self.push(top) # preenche a pilha original\n",
        "            strPilha += ' ' + str(top) # guarda o top em uma string\n",
        "            \n",
        "        strPilha += ' ]'\n",
        "        \n",
        "        return strPilha    \n",
        "        "
      ],
      "metadata": {
        "id": "ynXmZSp5VxR4"
      },
      "execution_count": null,
      "outputs": []
    },
    {
      "cell_type": "markdown",
      "source": [
        "Testando a pilha:"
      ],
      "metadata": {
        "id": "H4aSH57VX46Q"
      }
    },
    {
      "cell_type": "code",
      "source": [
        "pilha = Pilha()\n",
        "\n",
        "pilha.push(5)\n",
        "print(pilha)\n",
        "\n",
        "pilha.push(3)\n",
        "print(pilha)\n",
        "\n",
        "pilha.push(9)\n",
        "print(pilha)"
      ],
      "metadata": {
        "colab": {
          "base_uri": "https://localhost:8080/"
        },
        "id": "GQzZDNK5SgNq",
        "outputId": "719a4456-3b4e-4bf5-d0d5-d728a5dffd54"
      },
      "execution_count": null,
      "outputs": [
        {
          "output_type": "stream",
          "name": "stdout",
          "text": [
            "[ 5 ]\n",
            "[ 5 3 ]\n",
            "[ 5 3 9 ]\n"
          ]
        }
      ]
    },
    {
      "cell_type": "code",
      "source": [
        "print( 'Size: ', pilha.size() )"
      ],
      "metadata": {
        "colab": {
          "base_uri": "https://localhost:8080/"
        },
        "id": "JW9Pml9tS1Ex",
        "outputId": "a4086499-14c0-465e-a849-c766d6b23f5e"
      },
      "execution_count": null,
      "outputs": [
        {
          "output_type": "stream",
          "name": "stdout",
          "text": [
            "Size:  3\n"
          ]
        }
      ]
    },
    {
      "cell_type": "code",
      "source": [
        "valor = pilha.pop()\n",
        "print('Valor retirado: ',valor)\n",
        "print(pilha)"
      ],
      "metadata": {
        "colab": {
          "base_uri": "https://localhost:8080/"
        },
        "id": "f-uvEuY3S4ag",
        "outputId": "28fc5d08-ec53-4018-fefc-53e103c0b982"
      },
      "execution_count": null,
      "outputs": [
        {
          "output_type": "stream",
          "name": "stdout",
          "text": [
            "Valor retirado:  9\n",
            "[ 5 3 ]\n"
          ]
        }
      ]
    },
    {
      "cell_type": "code",
      "source": [
        "valor = pilha.pop()\n",
        "print('Valor retirado: ',valor)\n",
        "print(pilha)\n",
        "\n",
        "print( 'Vazia? ', pilha.isEmpty() )"
      ],
      "metadata": {
        "colab": {
          "base_uri": "https://localhost:8080/"
        },
        "id": "kg6k9XCeWmm5",
        "outputId": "22e41dbb-8320-464e-fd50-3d0d47920df7"
      },
      "execution_count": null,
      "outputs": [
        {
          "output_type": "stream",
          "name": "stdout",
          "text": [
            "Valor retirado:  3\n",
            "[ 5 ]\n",
            "Vazia?  False\n"
          ]
        }
      ]
    },
    {
      "cell_type": "code",
      "source": [
        "valor = pilha.pop()\n",
        "print('Valor retirado: ',valor)\n",
        "print(pilha)\n",
        "\n",
        "print( 'Vazia? ', pilha.isEmpty() )"
      ],
      "metadata": {
        "colab": {
          "base_uri": "https://localhost:8080/"
        },
        "id": "KPeeKJtCW8v5",
        "outputId": "e0a06999-b1a8-4701-8778-271a3c3b8786"
      },
      "execution_count": null,
      "outputs": [
        {
          "output_type": "stream",
          "name": "stdout",
          "text": [
            "Valor retirado:  5\n",
            "[ ]\n",
            "Vazia?  True\n"
          ]
        }
      ]
    },
    {
      "cell_type": "code",
      "source": [
        "valor = pilha.pop()\n",
        "print('Valor retirado: ',valor)\n",
        "print(pilha)"
      ],
      "metadata": {
        "colab": {
          "base_uri": "https://localhost:8080/"
        },
        "id": "3848W2D_XF4v",
        "outputId": "58feb4dc-f1d0-47d2-e3a9-b505d223855a"
      },
      "execution_count": null,
      "outputs": [
        {
          "output_type": "stream",
          "name": "stdout",
          "text": [
            "Pilha vazia\n",
            "Valor retirado:  None\n",
            "[ ]\n"
          ]
        }
      ]
    },
    {
      "cell_type": "code",
      "source": [
        "pilha.push(2)\n",
        "print(pilha)\n",
        "\n",
        "pilha.push(14)\n",
        "print(pilha)\n",
        "\n",
        "print( 'Vazia? ', pilha.isEmpty() )\n",
        "\n",
        "pilha.clear()\n",
        "print( 'Vazia? ', pilha.isEmpty() )"
      ],
      "metadata": {
        "id": "LXaXW9SyX7wQ",
        "colab": {
          "base_uri": "https://localhost:8080/"
        },
        "outputId": "2f999d24-7f3f-46b7-c56c-f517029e22fa"
      },
      "execution_count": null,
      "outputs": [
        {
          "output_type": "stream",
          "name": "stdout",
          "text": [
            "[ 2 ]\n",
            "[ 2 14 ]\n",
            "Vazia?  False\n",
            "Vazia?  True\n"
          ]
        }
      ]
    },
    {
      "cell_type": "markdown",
      "source": [
        "# ***Filas***\n",
        "**Tipo FIFO (First In, First Out)**"
      ],
      "metadata": {
        "id": "nanjvwU9ZPFo"
      }
    },
    {
      "cell_type": "markdown",
      "source": [
        "Estrutura linear de dados que cresce somando elementos ao final\n",
        "ou diminui removendo elementos à sua frente.\n",
        "\n",
        "* Novos elementos sempre entram no final da fila;\n",
        "* O único elemento que se pode retirar da fila é seu primeiro elemento.\n",
        "\n",
        "\n",
        "**Para que serve?**\n",
        "\n",
        "Modelar situações em que é preciso armazenar um conjunto de\n",
        "elementos, no qual o primeiro elemento a entrar no conjunto será\n",
        "também o primeiro elemento a sair do conjunto."
      ],
      "metadata": {
        "id": "oPE-qtrEZRFX"
      }
    },
    {
      "cell_type": "markdown",
      "source": [
        "# **Fila estática**\n",
        "Filas que tem seu tamanho fixo."
      ],
      "metadata": {
        "id": "YmhHgEMbaLkI"
      }
    },
    {
      "cell_type": "code",
      "source": [
        ""
      ],
      "metadata": {
        "id": "7lFN6viWZzfv"
      },
      "execution_count": null,
      "outputs": []
    },
    {
      "cell_type": "markdown",
      "source": [
        "# **Fila Dinâmica**\n",
        "\n",
        "Filas que não tem seu tamanho fixo."
      ],
      "metadata": {
        "id": "L41SZOSbaD9J"
      }
    },
    {
      "cell_type": "code",
      "source": [
        ""
      ],
      "metadata": {
        "id": "kQzzMCpWaFDw"
      },
      "execution_count": null,
      "outputs": []
    },
    {
      "cell_type": "markdown",
      "source": [
        "# **Lista Duplamente Ligada**"
      ],
      "metadata": {
        "id": "iUeTLPSMddnI"
      }
    },
    {
      "cell_type": "code",
      "source": [
        "# Noh de uma lista duplamente ligada\n",
        "class Node:\n",
        "    def __init__(self, data = None, next = None, prev = None):\n",
        "        self.data = data\n",
        "        self.next = next # apontador para o noh da frente\n",
        "        self.prev = prev # apontador para o noh de tras"
      ],
      "metadata": {
        "id": "BWLbsIEUfEkJ"
      },
      "execution_count": 3,
      "outputs": []
    },
    {
      "cell_type": "code",
      "source": [
        "class Lista:\n",
        "    \n",
        "    def __init__(self, data  = None):\n",
        "        self.head = None\n",
        "        self.tail = None\n",
        "        self.size = 0\n",
        "\n",
        "        \"\"\"---------------------------------------------------------------------\n",
        "        Adiciona um elemento no inicio da lista\n",
        "        ---------------------------------------------------------------------\"\"\"\n",
        "    def insertHead(self, data):\n",
        "        \n",
        "        tempNode = Node(data)# cria um novo noh com o dado informado\n",
        "   \n",
        "        if self.size==0:# se a lista esta vazia, o elemento head ira receber o novo noh. O elemento tail devera apontar para o mesmo noh do elemento head.\n",
        "            self.head = tempNode\n",
        "            self.tail = tempNode\n",
        "            \n",
        "        else:\n",
        "            tempNode.next = self.head# o proximo elemento na lista a frente do novo noh sera o noh head antigo\n",
        "            self.head.prev = tempNode # o elemento atras do noh head antigo sera o novo noh\n",
        "            self.head = tempNode # o novo noh head sera o novo noh\n",
        "            \n",
        "        self.size += 1 # incrementa a quantidade de elementos da lista\n",
        "\n",
        "        \n",
        "        \"\"\"---------------------------------------------------------------------\n",
        "        Adiciona um elemento no final da lista\n",
        "        ---------------------------------------------------------------------\"\"\"\n",
        "    def insertTail(self, data):\n",
        "        tempNode = Node(data)# cria um novo noh com o dado informado\n",
        "        \n",
        "        if self.size==0:\n",
        "            self.tail = tempNode\n",
        "            self.head = self.tail\n",
        "            \n",
        "        else:\n",
        "            tempNode.prev = self.tail# o tail antigo ficara atras do novo noh e, por isso,o apontador prev do novo noh deve apontar para o tail antigo.\n",
        "            self.tail.next = tempNode# o noh tail sera substituido pelo novo noh e, por isso, seu apontador next deve apontar para o novo noh\n",
        "            self.tail = tempNode # o novo noh tail sera o novo noh\n",
        "        \n",
        "        self.size += 1\n",
        "        \n",
        "        \"\"\"---------------------------------------------------------------------\n",
        "        Busca um noh com o valor informado retornando a posicao do valor ou -1 caso nao exista\n",
        "        ---------------------------------------------------------------------\"\"\"        \n",
        "    def busca(self, data): \n",
        "        if self.size > 0:\n",
        "            tempNode  = self.head # comecao pelo head\n",
        "            auxValor = tempNode.data\n",
        "            \n",
        "            if auxValor == data:\n",
        "                return 0\n",
        "\n",
        "            idx = 1\n",
        "            \n",
        "            while tempNode.next is not None:# percorre o resto da lista ate que o apontador next do noh seja nulo\n",
        "                tempNode = tempNode.next # vai para o proximo noh\n",
        "                auxValor = tempNode.data \n",
        "                    \n",
        "                if auxValor == data:\n",
        "                    return idx\n",
        "                \n",
        "                idx += 1\n",
        "        \n",
        "        return -1 # valor nao foi encontrado\n",
        "        \n",
        "   \n",
        "        \n",
        "        \"\"\"---------------------------------------------------------------------\n",
        "        Adiciona um elemento no final da lista\n",
        "        ---------------------------------------------------------------------\"\"\"          \n",
        "    def insert(self, data, position):\n",
        "        if position >= self.size:\n",
        "            print( 'Erro! A posicao desejada nao existe na lista' )\n",
        "            \n",
        "        else:\n",
        "            tempNode = Node(data)  # cria um novo noh com o dado informado\n",
        "         \n",
        "            if self.size==0:\n",
        "                self.tail = tempNode\n",
        "                self.head = self.tail\n",
        "                \n",
        "            else:\n",
        "                prevNode = self.head\n",
        "                idx = 1\n",
        "\n",
        "                while (idx < position): # percorre a lista ate encontrar o noh da posicao anterior a desejada. Comeca pelo head.\n",
        "                    prevNode = prevNode.next # vai para o proximo noh\n",
        "                    idx += 1\n",
        "                \n",
        "                \n",
        "                tempNode.next = prevNode.next # o apontador next do novo noh deve apontar para o noh que esta na frente do prevNode\n",
        "          \n",
        "                tempNode.prev = prevNode # o apontador prev do novo noh deve apontar para o prevNode\n",
        "\n",
        "                prevNode.next.prev = tempNode # o apontador prev do noh indicado pelo apontador next do prevNode devera apontar para o novo noh\n",
        "                \n",
        "                prevNode.next = tempNode # o apontador next do prevNode deve apontar para o novo noh  \n",
        "            \n",
        "            self.size += 1\n",
        " \n",
        "\n",
        "\n",
        "        \"\"\"---------------------------------------------------------------------\n",
        "        Retorna a quantidade de elementos da lista\n",
        "        ---------------------------------------------------------------------\"\"\"     \n",
        "    def getSize(self):\n",
        "        return self.size\n",
        "\n",
        "\n",
        "\n",
        "        \"\"\"---------------------------------------------------------------------\n",
        "        Retorna True se a lista esta vazia\n",
        "        ---------------------------------------------------------------------\"\"\"  \n",
        "    def isEmpty(self):\n",
        "        return self.head is None\n",
        "    \n",
        "\n",
        "    \n",
        "        \"\"\"---------------------------------------------------------------------\n",
        "        Remove um elemento da lista\n",
        "        ---------------------------------------------------------------------\"\"\"  \n",
        "    def remove(self, position):\n",
        "        if position >= self.size:\n",
        "            print( 'Erro! A posicao desejada nao existe na lista' )\n",
        "            \n",
        "        else:\n",
        "            if self.size==0: # se a lista esta vazia, retorna um erro\n",
        "                print('Erro. A lista esta vazia (underflow')\n",
        "                return False\n",
        "            \n",
        "            else:\n",
        "                tempNode = self.head\n",
        "                idx = 1\n",
        "\n",
        "                while (idx <= position):# percorre a lista ate encontrar o noh da posicao desejada. Comeca pelo head.\n",
        "                    tempNode = tempNode.next# vai para o proximo noh\n",
        "                    idx += 1\n",
        "\n",
        "                if position == 0:# se o noh estiver na primeira posicao da lista o head recebe o next do noh removido\n",
        "                    self.head = tempNode.next\n",
        "                \n",
        "                else: # se o noh nao estiver na primeira posicao da lista, o apontador next do noh anterior ao que sera removido deve apontar para o noh indicado pelo apontador next do noh que sera removido\n",
        "                    tempNode.prev.next = tempNode.next\n",
        "\n",
        "                if position == self.size - 1: # se o noh estiver na ultima posicao da lista o tail recebe o prev do noh removido\n",
        "                    self.tail = tempNode.prev\n",
        "                  \n",
        "                else: # se o noh nao estiver na ultima posicao da lista, o apontador prev do noh da frente do que sera removido deve apontar para o noh indicado pelo apontador prev do noh que sera removido\n",
        "                    tempNode.next.prev = tempNode.prev\n",
        "                \n",
        "                \n",
        "                del tempNode # deleta o noh da memoria\n",
        "\n",
        "            self.size -= 1\n",
        "            \n",
        "    \n",
        "\n",
        "    \n",
        "        \"\"\"---------------------------------------------------------------------\n",
        "        Limpa a lista\n",
        "        ---------------------------------------------------------------------\"\"\" \n",
        "    def clear(self):\n",
        "        while not self.isEmpty():\n",
        "            self.remove(0)\n",
        "     \n",
        "\n",
        "    \n",
        "        \"\"\"---------------------------------------------------------------------\n",
        "        Retorna uma string com as informacoes da lista\n",
        "        quando o objeto e chamado dentro de um print() \n",
        "        ou dentro de um str().\n",
        "        \n",
        "        A lista nao possui restricao de acesso aos seus elementos. \n",
        "        Por isso, ela nao precisa ser destruida para que seus elementos sejam \n",
        "        visitados como na fila e na pilha\n",
        "        ---------------------------------------------------------------------\"\"\"            \n",
        "    def __str__(self):\n",
        "        strfila = '[ '\n",
        "        \n",
        "        if self.size > 0:# comecao pelo head\n",
        "            tempNode  = self.head\n",
        "            valor = tempNode.data\n",
        "        \n",
        "            strfila += ' ' + str(valor)# guarda o valor do head em uma string\n",
        "           \n",
        "            while tempNode.next is not None: # percorre o resto da lista ate que o apontador next do noh seja nulo\n",
        "                tempNode = tempNode.next # vai para o proximo noh\n",
        "                valor = tempNode.data \n",
        "                strfila += ' ' + str(valor) # guarda o valor em uma string\n",
        "            \n",
        "        strfila += ' ]'\n",
        "        \n",
        "        return strfila\n",
        "        "
      ],
      "metadata": {
        "id": "Vdz5hyzyezqj"
      },
      "execution_count": 5,
      "outputs": []
    },
    {
      "cell_type": "code",
      "source": [
        "# testando a lista\n",
        "lista = Lista()\n",
        "\n",
        "lista.insertHead(10)\n",
        "print(lista)\n",
        "\n",
        "lista.insertHead(5)\n",
        "print(lista)\n",
        "\n",
        "lista.insertTail(3)\n",
        "print(lista)\n",
        "\n",
        "lista.insert(8, 2)\n",
        "print(lista)\n",
        "\n",
        "lista.insertTail(9)\n",
        "print(lista)\n",
        "\n",
        "lista.insertHead(8)\n",
        "print(lista)\n",
        "\n",
        "lista.insert(7, 4)\n",
        "print(lista)\n",
        "\n",
        "res = lista.busca(10)\n",
        "print(res)\n",
        "\n",
        "res = lista.busca(9)\n",
        "print(res)\n",
        "\n",
        "res = lista.busca(15)\n",
        "print(res)\n",
        "\n",
        "lista.remove(3)\n",
        "print(lista)\n",
        "\n",
        "lista.remove(5)\n",
        "print(lista)\n",
        "\n",
        "lista.remove(0)\n",
        "print(lista)\n",
        "\n",
        "lista.remove(0)\n",
        "print(lista)\n",
        "\n",
        "lista.clear()\n",
        "print(lista)"
      ],
      "metadata": {
        "id": "jWiMz8b9e0i5",
        "outputId": "a931f40a-a291-4422-dfd5-02d84773ddb0",
        "colab": {
          "base_uri": "https://localhost:8080/"
        }
      },
      "execution_count": 6,
      "outputs": [
        {
          "output_type": "stream",
          "name": "stdout",
          "text": [
            "[  10 ]\n",
            "[  5 10 ]\n",
            "[  5 10 3 ]\n",
            "[  5 10 8 3 ]\n",
            "[  5 10 8 3 9 ]\n",
            "[  8 5 10 8 3 9 ]\n",
            "[  8 5 10 8 7 3 9 ]\n",
            "2\n",
            "6\n",
            "-1\n",
            "[  8 5 10 7 3 9 ]\n",
            "[  8 5 10 7 3 ]\n",
            "[  5 10 7 3 ]\n",
            "[  10 7 3 ]\n",
            "[  ]\n"
          ]
        }
      ]
    }
  ]
}