{
  "nbformat": 4,
  "nbformat_minor": 0,
  "metadata": {
    "colab": {
      "name": "Aula3.ipynb",
      "provenance": [],
      "authorship_tag": "ABX9TyN1JRWVhU9sV0qhqL0htmop",
      "include_colab_link": true
    },
    "kernelspec": {
      "name": "python3",
      "display_name": "Python 3"
    },
    "language_info": {
      "name": "python"
    }
  },
  "cells": [
    {
      "cell_type": "markdown",
      "metadata": {
        "id": "view-in-github",
        "colab_type": "text"
      },
      "source": [
        "<a href=\"https://colab.research.google.com/github/luadeprataart/Basic-Python-study/blob/main/Aula3.ipynb\" target=\"_parent\"><img src=\"https://colab.research.google.com/assets/colab-badge.svg\" alt=\"Open In Colab\"/></a>"
      ]
    },
    {
      "cell_type": "markdown",
      "source": [
        "# **Pilhas**\n",
        "\n",
        "# Pilhas estaticas"
      ],
      "metadata": {
        "id": "igqWtw1jFz1T"
      }
    },
    {
      "cell_type": "code",
      "execution_count": 15,
      "metadata": {
        "id": "t7ZqWzhdFtw8"
      },
      "outputs": [],
      "source": [
        "class Pilha:\n",
        "\n",
        "  def __init__(self, capacity) -> None:\n",
        "   self.top = -1\n",
        "   self.capacity = capacity\n",
        "   self.pilha = [None] * capacity # inicializa a pilha com o tamanho desejado\n",
        " \n",
        "\n",
        "\n",
        "#Função para inserir um elemento na pilha------------------------------------------------------------------------ \n",
        "  def push(self, data): \n",
        "\n",
        "   if self.capacity == self.top + 1: #Condição para a pilha cheia\n",
        "    print(\"Estouro de pilha\")\n",
        "    return\n",
        "\n",
        "   else: \n",
        "     self.top = self.top + 1\n",
        "     self.pilha[self.top] = data\n",
        "     return\n",
        "\n",
        "\n",
        "#Função para retornar e excluir um elemento da pilha------------------------------------------------------------------------ \n",
        "  def pop(self):\n",
        "   if self.top == -1: #Condição para a pilha vazia\n",
        "    print(\"Pilha vazia\")\n",
        "    return\n",
        "\n",
        "   temp = self.pilha[self.top]\n",
        "   self.top = self.top - 1\n",
        "   return temp\n",
        "\n",
        "\n",
        "#Função para retornar o tamanho da pilha------------------------------------------------------------------------ \n",
        "  def size(self):\n",
        "   return self.top+1 \n",
        "\n",
        "\n",
        "#Função para retornar se a pilha está vazia------------------------------------------------------------------------ \n",
        "  def isEmpty(self):\n",
        "   return self.top == -1\n",
        "\n",
        "\n",
        "#Função para retornar se a pilha está cheia------------------------------------------------------------------------ \n",
        "  def isFull(self):\n",
        "   return self.capacity == self.top + 1\n",
        "\n",
        "\n",
        "#Função para retornar o elemento do topo da pilha------------------------------------------------------------------------ \n",
        "  def getTop(self):\n",
        "\n",
        "   if self.isEmpty():#Caso a pilha esteja vazia\n",
        "    print(\"Pilha vazia\")\n",
        "    return None\n",
        "   return self.pilha[self.top]\n",
        "\n",
        "\n",
        "#Função para limpar a pilha------------------------------------------------------------------------ \n",
        "  def clear(self):\n",
        "   self.top = -1\n",
        " \n",
        "#Retorna uma string com as informacoes da pilha quando o objeto e chamado dentro de um print() ou dentro de um str()------------------------------------------------------------------------ \n",
        "  def __str__(self):\n",
        "   auxPilha = Pilha(self.capacity)# cria uma nova pilha auxiliar\n",
        " \n",
        "  # retira os elementos da pilha antiga e preenche a auxiliar com isso, a auxiliar sera preenchida em ordem\n",
        "   for i in range( self.top+1 ):\n",
        "    auxPilha.push( self.pop() )\n",
        " \n",
        "  # cria uma string com os elementos da pilha auxiliar e enquanto isso, preenche novamente a pilha original\n",
        "   strPilha = '['\n",
        "   for i in range( auxPilha.top+1 ):\n",
        "     top = auxPilha.pop() \n",
        "     self.push(top) # preenche a pilha original\n",
        "     strPilha += ' ' + str(top) # guarda o top em uma string\n",
        "   strPilha +=  ']'\n",
        "   return strPilha\n",
        "     "
      ]
    },
    {
      "cell_type": "code",
      "source": [
        "pilhinha = Pilha(10)\n",
        "pilhinha.push(47)\n",
        "pilhinha.push(30)\n",
        "pilhinha.push(69)\n",
        "\n",
        "print(pilhinha)"
      ],
      "metadata": {
        "colab": {
          "base_uri": "https://localhost:8080/"
        },
        "id": "jSd-_3rjKunZ",
        "outputId": "2263ae2f-5b23-468c-c7d0-f6ab52db7333"
      },
      "execution_count": 16,
      "outputs": [
        {
          "output_type": "stream",
          "name": "stdout",
          "text": [
            "[ 47 30 69]\n"
          ]
        }
      ]
    }
  ]
}