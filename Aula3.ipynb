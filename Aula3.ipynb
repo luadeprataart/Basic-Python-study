{
  "nbformat": 4,
  "nbformat_minor": 0,
  "metadata": {
    "colab": {
      "name": "Aula3.ipynb",
      "provenance": [],
      "authorship_tag": "ABX9TyOyIE7UY+l6cxAdjqb3EK58",
      "include_colab_link": true
    },
    "kernelspec": {
      "name": "python3",
      "display_name": "Python 3"
    },
    "language_info": {
      "name": "python"
    }
  },
  "cells": [
    {
      "cell_type": "markdown",
      "metadata": {
        "id": "view-in-github",
        "colab_type": "text"
      },
      "source": [
        "<a href=\"https://colab.research.google.com/github/luadeprataart/Basic-Python-study/blob/main/Aula3.ipynb\" target=\"_parent\"><img src=\"https://colab.research.google.com/assets/colab-badge.svg\" alt=\"Open In Colab\"/></a>"
      ]
    },
    {
      "cell_type": "markdown",
      "source": [
        "# **Pilhas**\n",
        "**Tipo LIFO (Last In, First Out)**"
      ],
      "metadata": {
        "id": "igqWtw1jFz1T"
      }
    },
    {
      "cell_type": "markdown",
      "source": [
        "\n",
        "Estrutura linear de dados que só pode ser\n",
        "acessada por uma de suas extremidades\n",
        "para armazenar e recuperar dados.\n",
        "\n",
        "* Novos elementos sempre entram no topo\n",
        "da pilha;\n",
        "* O único elemento que pode ser retirado da\n",
        "pilha em um dado momento é o elemento\n",
        "do topo;\n",
        "* A outra extremidade da pilha é chamada de\n",
        "base."
      ],
      "metadata": {
        "id": "BgS1E5V1YoEg"
      }
    },
    {
      "cell_type": "markdown",
      "source": [
        "**Para que serve uma pilha?**\n",
        "\n",
        "Uma pilha serve para modelar situações em que é preciso guardar\n",
        "para mais tarde vários elementos e lembrar\n",
        "sempre do último elemento armazenado."
      ],
      "metadata": {
        "id": "4u81EZdhYVkx"
      }
    },
    {
      "cell_type": "markdown",
      "source": [
        "# **Pilha estática**\n",
        "Pilhas que tem seu tamanho fixo.\n"
      ],
      "metadata": {
        "id": "M1Rtk0c2Vnzj"
      }
    },
    {
      "cell_type": "code",
      "execution_count": null,
      "metadata": {
        "id": "t7ZqWzhdFtw8"
      },
      "outputs": [],
      "source": [
        "class Pilha:\n",
        "\n",
        "  def __init__(self, capacity) -> None:\n",
        "   self.top = -1\n",
        "   self.capacity = capacity\n",
        "   self.pilha = [None] * capacity # inicializa a pilha com o tamanho desejado\n",
        " \n",
        "\n",
        "\n",
        "#Função para inserir um elemento na pilha------------------------------------------------------------------------ \n",
        "  def push(self, data): \n",
        "\n",
        "   if self.capacity == self.top + 1: #Condição para a pilha cheia\n",
        "    print(\"Estouro de pilha\")\n",
        "    return\n",
        "\n",
        "   else: \n",
        "     self.top = self.top + 1\n",
        "     self.pilha[self.top] = data\n",
        "     return\n",
        "\n",
        "\n",
        "#Função para retornar e excluir um elemento da pilha------------------------------------------------------------------------ \n",
        "  def pop(self):\n",
        "   if self.top == -1: #Condição para a pilha vazia\n",
        "    print(\"Pilha vazia\")\n",
        "    return\n",
        "\n",
        "   temp = self.pilha[self.top]\n",
        "   self.top = self.top - 1\n",
        "   return temp\n",
        "\n",
        "\n",
        "#Função para retornar o tamanho da pilha------------------------------------------------------------------------ \n",
        "  def size(self):\n",
        "   return self.top+1 \n",
        "\n",
        "\n",
        "#Função para retornar se a pilha está vazia------------------------------------------------------------------------ \n",
        "  def isEmpty(self):\n",
        "   return self.top == -1\n",
        "\n",
        "\n",
        "#Função para retornar se a pilha está cheia------------------------------------------------------------------------ \n",
        "  def isFull(self):\n",
        "   return self.capacity == self.top + 1\n",
        "\n",
        "\n",
        "#Função para retornar o elemento do topo da pilha------------------------------------------------------------------------ \n",
        "  def getTop(self):\n",
        "\n",
        "   if self.isEmpty():#Caso a pilha esteja vazia\n",
        "    print(\"Pilha vazia\")\n",
        "    return None\n",
        "   return self.pilha[self.top]\n",
        "\n",
        "\n",
        "#Função para limpar a pilha------------------------------------------------------------------------ \n",
        "  def clear(self):\n",
        "   self.top = -1\n",
        " \n",
        "#Retorna uma string com as informacoes da pilha quando o objeto e chamado dentro de um print() ou dentro de um str()------------------------------------------------------------------------ \n",
        "  def __str__(self):\n",
        "   auxPilha = Pilha(self.capacity)# cria uma nova pilha auxiliar\n",
        " \n",
        "  # retira os elementos da pilha antiga e preenche a auxiliar com isso, a auxiliar sera preenchida em ordem\n",
        "   for i in range( self.top+1 ):\n",
        "    auxPilha.push( self.pop() )\n",
        " \n",
        "  # cria uma string com os elementos da pilha auxiliar e enquanto isso, preenche novamente a pilha original\n",
        "   strPilha = '['\n",
        "   for i in range( auxPilha.top+1 ):\n",
        "     top = auxPilha.pop() \n",
        "     self.push(top) # preenche a pilha original\n",
        "     strPilha += ' ' + str(top) # guarda o top em uma string\n",
        "   strPilha +=  ']'\n",
        "   return strPilha\n",
        "     "
      ]
    },
    {
      "cell_type": "markdown",
      "source": [
        "Testando a pilha:\n"
      ],
      "metadata": {
        "id": "J2-dMZqWXyOx"
      }
    },
    {
      "cell_type": "code",
      "source": [
        "pilhinha = Pilha(3)\n",
        "pilhinha.push(47)\n",
        "pilhinha.push(30)\n",
        "pilhinha.push(69)\n",
        "\n",
        "print(pilhinha)"
      ],
      "metadata": {
        "colab": {
          "base_uri": "https://localhost:8080/"
        },
        "id": "jSd-_3rjKunZ",
        "outputId": "c3f2a6cd-e27d-4cd4-d4c9-4a9e513cb340"
      },
      "execution_count": null,
      "outputs": [
        {
          "output_type": "stream",
          "name": "stdout",
          "text": [
            "[ 47 30 69]\n"
          ]
        }
      ]
    },
    {
      "cell_type": "code",
      "source": [
        "pilhinha.pop()"
      ],
      "metadata": {
        "colab": {
          "base_uri": "https://localhost:8080/"
        },
        "id": "mctq_3MBTFkp",
        "outputId": "92de6eb5-737d-4bf7-a36a-ada39398c4ef"
      },
      "execution_count": null,
      "outputs": [
        {
          "output_type": "execute_result",
          "data": {
            "text/plain": [
              "69"
            ]
          },
          "metadata": {},
          "execution_count": 27
        }
      ]
    },
    {
      "cell_type": "code",
      "source": [
        "pilhinha.push(69)\n",
        "pilhinha.push(69)"
      ],
      "metadata": {
        "colab": {
          "base_uri": "https://localhost:8080/"
        },
        "id": "UVKqKmqUTHno",
        "outputId": "e6573e44-69ba-426b-9a5e-fa93dc01f2a3"
      },
      "execution_count": null,
      "outputs": [
        {
          "output_type": "stream",
          "name": "stdout",
          "text": [
            "Estouro de pilha\n"
          ]
        }
      ]
    },
    {
      "cell_type": "code",
      "source": [
        "pilhinha.clear()\n",
        "print(pilhinha)"
      ],
      "metadata": {
        "colab": {
          "base_uri": "https://localhost:8080/"
        },
        "id": "RtrNLcEnTtfR",
        "outputId": "a13f7ab8-f7b8-4832-e314-a2b4108c344e"
      },
      "execution_count": null,
      "outputs": [
        {
          "output_type": "stream",
          "name": "stdout",
          "text": [
            "[]\n"
          ]
        }
      ]
    },
    {
      "cell_type": "markdown",
      "source": [
        "# **Pilha Dinâmica**\n",
        "\n",
        "Pilhas que não tem seu tamanho fixo."
      ],
      "metadata": {
        "id": "JXTcgRlhVtvF"
      }
    },
    {
      "cell_type": "code",
      "source": [
        "# Nó de conexão da pilha - Responsável por conecetar os itens que integram a pilha.\n",
        "class Node:\n",
        "    def __init__(self, data = None, next = None):\n",
        "        self.data = data\n",
        "        self.next = next\n",
        "\n",
        "# Criando a classe de pilha dinâmica\n",
        "class Pilha:\n",
        "    \n",
        "    def __init__(self, data  = None):\n",
        "        self.head = None\n",
        "        self.tamanho = 0\n",
        "        \n",
        "        if data is not None:\n",
        "            self.push(data)\n",
        "\n",
        "#Função para inserir um elemento na pilha------------------------------------------------------------------------ \n",
        "    def push(self, data):\n",
        "       \n",
        "        if self.head is None: # se a pilha esta vazia, o element head ira receber o novo noh. Mas, ele ira apontar para None, pois nao existia nenhum noh antes\n",
        "            self.head = Node(data)\n",
        "            \n",
        "        else: # Cria um novo noh com o dado informado e que sera usado como novo topo.Esse novo noh ira apontar para o noh que era o topo antes\n",
        "            temporario = Node(data, self.head)\n",
        "            self.head = temporario # substitui o topo pelo novo noh\n",
        "        \n",
        "        self.tamanho += 1\n",
        "\n",
        "\n",
        "#Função para retorna e remover o elemento do topo da pilha------------------------------------------------------------------------ \n",
        "    def pop(self):\n",
        "        \n",
        "        if self.head is None: # Se a pilha estiver vazia\n",
        "            print(\"Pilha vazia\")\n",
        "            return None\n",
        "        \n",
        "        data = self.head.data # Obtem o valor do topo da pilha no nó\n",
        "        self.head = self.head.next # O número que ele aponta no nó vira o topo\n",
        "        self.tamanho -= 1 # Diminui um do tamnho da pilha\n",
        "\n",
        "        return data # Retorna o item do topo da pilha\n",
        "\n",
        "\n",
        "#Função para retornar a quantidade de elementos da pilha------------------------------------------------------------------------     \n",
        "    def size(self):\n",
        "        return self.tamanho\n",
        "\n",
        "\n",
        "#Função para retornar se a pilha está vazia------------------------------------------------------------------------  \n",
        "    def isEmpty(self):\n",
        "        return self.head is None #O meu topo é None?(True/False)\n",
        "\n",
        "\n",
        "#Função para retornar o topo da pilha------------------------------------------------------------------------ \n",
        "    def getTop(self):\n",
        "        if self.head is None:\n",
        "            print(\"Pilha vazia\")\n",
        "            return None\n",
        "\n",
        "        return self.head.data\n",
        "\n",
        "\n",
        "#Limpa a pilha------------------------------------------------------------------------             \n",
        "    def clear(self):\n",
        "        while not self.isEmpty():\n",
        "            data = self.pop()\n",
        "\n",
        "\n",
        "#Retorna uma string com as informacoes da pilha quando o objeto e chamado dentro de um print() ou dentro de um str()------------------------------------------------------------------------    \n",
        "    def __str__(self):\n",
        "       \n",
        "        auxPilha = Pilha()# cria uma nova pilha auxiliar\n",
        "        \n",
        "        while not self.isEmpty(): # retira os elementos da pilha antiga e preenche a auxiliar com isso, a auxiliar sera preenchida em ordem reversa\n",
        "            data = self.pop()\n",
        "            auxPilha.push( data )\n",
        "            \n",
        "        strPilha = '['   \n",
        "        while not auxPilha.isEmpty(): # cria uma string com os elementos da pilha auxiliar e enquanto isso, preenche novamente a pilha original\n",
        "            top = auxPilha.pop()\n",
        "            self.push(top) # preenche a pilha original\n",
        "            strPilha += ' ' + str(top) # guarda o top em uma string\n",
        "            \n",
        "        strPilha += ' ]'\n",
        "        \n",
        "        return strPilha    \n",
        "        "
      ],
      "metadata": {
        "id": "ynXmZSp5VxR4"
      },
      "execution_count": 12,
      "outputs": []
    },
    {
      "cell_type": "markdown",
      "source": [
        "Testando a pilha:"
      ],
      "metadata": {
        "id": "H4aSH57VX46Q"
      }
    },
    {
      "cell_type": "code",
      "source": [
        "pilha = Pilha()\n",
        "\n",
        "pilha.push(5)\n",
        "print(pilha)\n",
        "\n",
        "pilha.push(3)\n",
        "print(pilha)\n",
        "\n",
        "pilha.push(9)\n",
        "print(pilha)"
      ],
      "metadata": {
        "colab": {
          "base_uri": "https://localhost:8080/"
        },
        "id": "GQzZDNK5SgNq",
        "outputId": "719a4456-3b4e-4bf5-d0d5-d728a5dffd54"
      },
      "execution_count": 32,
      "outputs": [
        {
          "output_type": "stream",
          "name": "stdout",
          "text": [
            "[ 5 ]\n",
            "[ 5 3 ]\n",
            "[ 5 3 9 ]\n"
          ]
        }
      ]
    },
    {
      "cell_type": "code",
      "source": [
        "print( 'Size: ', pilha.size() )"
      ],
      "metadata": {
        "colab": {
          "base_uri": "https://localhost:8080/"
        },
        "id": "JW9Pml9tS1Ex",
        "outputId": "a4086499-14c0-465e-a849-c766d6b23f5e"
      },
      "execution_count": 33,
      "outputs": [
        {
          "output_type": "stream",
          "name": "stdout",
          "text": [
            "Size:  3\n"
          ]
        }
      ]
    },
    {
      "cell_type": "code",
      "source": [
        "valor = pilha.pop()\n",
        "print('Valor retirado: ',valor)\n",
        "print(pilha)"
      ],
      "metadata": {
        "colab": {
          "base_uri": "https://localhost:8080/"
        },
        "id": "f-uvEuY3S4ag",
        "outputId": "28fc5d08-ec53-4018-fefc-53e103c0b982"
      },
      "execution_count": 34,
      "outputs": [
        {
          "output_type": "stream",
          "name": "stdout",
          "text": [
            "Valor retirado:  9\n",
            "[ 5 3 ]\n"
          ]
        }
      ]
    },
    {
      "cell_type": "code",
      "source": [
        "valor = pilha.pop()\n",
        "print('Valor retirado: ',valor)\n",
        "print(pilha)\n",
        "\n",
        "print( 'Vazia? ', pilha.isEmpty() )"
      ],
      "metadata": {
        "colab": {
          "base_uri": "https://localhost:8080/"
        },
        "id": "kg6k9XCeWmm5",
        "outputId": "22e41dbb-8320-464e-fd50-3d0d47920df7"
      },
      "execution_count": 35,
      "outputs": [
        {
          "output_type": "stream",
          "name": "stdout",
          "text": [
            "Valor retirado:  3\n",
            "[ 5 ]\n",
            "Vazia?  False\n"
          ]
        }
      ]
    },
    {
      "cell_type": "code",
      "source": [
        "valor = pilha.pop()\n",
        "print('Valor retirado: ',valor)\n",
        "print(pilha)\n",
        "\n",
        "print( 'Vazia? ', pilha.isEmpty() )"
      ],
      "metadata": {
        "colab": {
          "base_uri": "https://localhost:8080/"
        },
        "id": "KPeeKJtCW8v5",
        "outputId": "e0a06999-b1a8-4701-8778-271a3c3b8786"
      },
      "execution_count": 36,
      "outputs": [
        {
          "output_type": "stream",
          "name": "stdout",
          "text": [
            "Valor retirado:  5\n",
            "[ ]\n",
            "Vazia?  True\n"
          ]
        }
      ]
    },
    {
      "cell_type": "code",
      "source": [
        "valor = pilha.pop()\n",
        "print('Valor retirado: ',valor)\n",
        "print(pilha)"
      ],
      "metadata": {
        "colab": {
          "base_uri": "https://localhost:8080/"
        },
        "id": "3848W2D_XF4v",
        "outputId": "58feb4dc-f1d0-47d2-e3a9-b505d223855a"
      },
      "execution_count": 37,
      "outputs": [
        {
          "output_type": "stream",
          "name": "stdout",
          "text": [
            "Pilha vazia\n",
            "Valor retirado:  None\n",
            "[ ]\n"
          ]
        }
      ]
    },
    {
      "cell_type": "code",
      "source": [
        "pilha.push(2)\n",
        "print(pilha)\n",
        "\n",
        "pilha.push(14)\n",
        "print(pilha)\n",
        "\n",
        "print( 'Vazia? ', pilha.isEmpty() )\n",
        "\n",
        "pilha.clear()\n",
        "print( 'Vazia? ', pilha.isEmpty() )"
      ],
      "metadata": {
        "id": "LXaXW9SyX7wQ",
        "colab": {
          "base_uri": "https://localhost:8080/"
        },
        "outputId": "2f999d24-7f3f-46b7-c56c-f517029e22fa"
      },
      "execution_count": 38,
      "outputs": [
        {
          "output_type": "stream",
          "name": "stdout",
          "text": [
            "[ 2 ]\n",
            "[ 2 14 ]\n",
            "Vazia?  False\n",
            "Vazia?  True\n"
          ]
        }
      ]
    },
    {
      "cell_type": "markdown",
      "source": [
        "# ***Filas***\n",
        "**Tipo FIFO (First In, First Out)**"
      ],
      "metadata": {
        "id": "nanjvwU9ZPFo"
      }
    },
    {
      "cell_type": "markdown",
      "source": [
        "Estrutura linear de dados que cresce somando elementos ao final\n",
        "ou diminui removendo elementos à sua frente.\n",
        "\n",
        "* Novos elementos sempre entram no final da fila;\n",
        "* O único elemento que se pode retirar da fila é seu primeiro elemento.\n",
        "\n",
        "\n",
        "**Para que serve?**\n",
        "\n",
        "Modelar situações em que é preciso armazenar um conjunto de\n",
        "elementos, no qual o primeiro elemento a entrar no conjunto será\n",
        "também o primeiro elemento a sair do conjunto."
      ],
      "metadata": {
        "id": "oPE-qtrEZRFX"
      }
    },
    {
      "cell_type": "markdown",
      "source": [
        "# **Fila estática**\n",
        "Filas que tem seu tamanho fixo."
      ],
      "metadata": {
        "id": "YmhHgEMbaLkI"
      }
    },
    {
      "cell_type": "code",
      "source": [
        ""
      ],
      "metadata": {
        "id": "7lFN6viWZzfv"
      },
      "execution_count": null,
      "outputs": []
    },
    {
      "cell_type": "markdown",
      "source": [
        "# **Fila Dinâmica**\n",
        "\n",
        "Filas que não tem seu tamanho fixo."
      ],
      "metadata": {
        "id": "L41SZOSbaD9J"
      }
    },
    {
      "cell_type": "code",
      "source": [
        ""
      ],
      "metadata": {
        "id": "kQzzMCpWaFDw"
      },
      "execution_count": null,
      "outputs": []
    }
  ]
}