{
  "cells": [
    {
      "cell_type": "markdown",
      "metadata": {
        "id": "view-in-github",
        "colab_type": "text"
      },
      "source": [
        "<a href=\"https://colab.research.google.com/github/luadeprataart/Basic-Python-study/blob/main/Aula1_introducao_python.ipynb\" target=\"_parent\"><img src=\"https://colab.research.google.com/assets/colab-badge.svg\" alt=\"Open In Colab\"/></a>"
      ]
    },
    {
      "cell_type": "markdown",
      "metadata": {
        "id": "wG7iTYF8RnL_"
      },
      "source": [
        "# <center>Centro Universitário Facens<br/></center>\n",
        "<br/>\n",
        "<font size=\"4\"><center><b>Disciplina: Processamento de Imagens</b></center></font>\n",
        "  \n",
        "<font size=\"3\"><center>Prof. Renato M. Silva</center></font>\n",
        "<br/>"
      ]
    },
    {
      "cell_type": "markdown",
      "metadata": {
        "id": "lKkNOowTRnMM"
      },
      "source": [
        "# <center>Exercício - Introdução ao Python</center>\n",
        "\n",
        "Neste exercício, são apresentados alguns recursos básicos do Python que geralmente são necessários nos projetos de Processamento de Imagens. "
      ]
    },
    {
      "cell_type": "markdown",
      "metadata": {
        "id": "VsnUO3HTRnMS"
      },
      "source": [
        "# Numpy - vetores e matrizes\n",
        "\n",
        "A biblioteca `numpy` do python permite a criação, manipulações e operações matemáticas de vetores e matrizes.\n",
        "\n",
        "Primeiro, você deve importar a biblioteca, antes de usar suas funções."
      ]
    },
    {
      "cell_type": "code",
      "execution_count": 5,
      "metadata": {
        "scrolled": true,
        "id": "skaofCk9RnMY"
      },
      "outputs": [],
      "source": [
        "# -*- coding: utf-8 -*-\n",
        "\n",
        "import numpy as np # importa a biblioteca usada para trabalhar com vetores e matrizes."
      ]
    },
    {
      "cell_type": "markdown",
      "metadata": {
        "id": "r5exG_yeRnMe"
      },
      "source": [
        "## Criando vetores e matrizes\n",
        "\n",
        "Criando um vetor com os seguintes valores $[1,2,3,4,5]$."
      ]
    },
    {
      "cell_type": "code",
      "execution_count": null,
      "metadata": {
        "id": "KcsiMcVdRnMi",
        "colab": {
          "base_uri": "https://localhost:8080/",
          "height": 52
        },
        "outputId": "5ce15ac6-0048-46ed-c90b-02c42bfec3f6"
      },
      "outputs": [
        {
          "output_type": "stream",
          "name": "stdout",
          "text": [
            "[1 2 3 4 5]\n"
          ]
        },
        {
          "output_type": "display_data",
          "data": {
            "text/plain": [
              "array([1, 2, 3, 4, 5])"
            ]
          },
          "metadata": {}
        }
      ],
      "source": [
        "# criando um vetor\n",
        "vet = np.array( [1,2,3,4,5] )\n",
        "\n",
        "# você pode imprimir usando a função print ou a função display\n",
        "print(vet)\n",
        "display(vet)"
      ]
    },
    {
      "cell_type": "markdown",
      "metadata": {
        "id": "wp5BicduRnMn"
      },
      "source": [
        "Podemos criar um vetor de elementos sequenciais usando a função `arange` do `numpy`. Por exemplo, vamos criar um vetor com valores de 0 até 7."
      ]
    },
    {
      "cell_type": "code",
      "execution_count": null,
      "metadata": {
        "id": "Asxbg-vvRnMq",
        "colab": {
          "base_uri": "https://localhost:8080/",
          "height": 34
        },
        "outputId": "2163334a-daaf-4002-9e01-0f5a4098d56a"
      },
      "outputs": [
        {
          "output_type": "display_data",
          "data": {
            "text/plain": [
              "array([0, 1, 2, 3, 4, 5, 6, 7])"
            ]
          },
          "metadata": {}
        }
      ],
      "source": [
        "vet_seq1 = np.arange(8)\n",
        "\n",
        "display(vet_seq1)"
      ]
    },
    {
      "cell_type": "markdown",
      "metadata": {
        "id": "EzS2-KAFRnMu"
      },
      "source": [
        "Agora, vamos criar um vetor de elementos sequenciais de 5 até 10."
      ]
    },
    {
      "cell_type": "code",
      "execution_count": null,
      "metadata": {
        "id": "kF_Z1XaHRnMz",
        "colab": {
          "base_uri": "https://localhost:8080/",
          "height": 34
        },
        "outputId": "bb7d3f63-836b-4182-e81e-563e9ff9a668"
      },
      "outputs": [
        {
          "output_type": "display_data",
          "data": {
            "text/plain": [
              "array([ 5,  6,  7,  8,  9, 10])"
            ]
          },
          "metadata": {}
        }
      ],
      "source": [
        "vet_seq1 = np.arange(5,11)\n",
        "\n",
        "display(vet_seq1)"
      ]
    },
    {
      "cell_type": "markdown",
      "metadata": {
        "id": "YlxjXQ7sRnM3"
      },
      "source": [
        "Nós podemos também criar um vetor sequencial variando de 2 em 2 ou com outros intervalos."
      ]
    },
    {
      "cell_type": "code",
      "execution_count": null,
      "metadata": {
        "id": "qKRJU4-YRnM6",
        "colab": {
          "base_uri": "https://localhost:8080/"
        },
        "outputId": "587ca730-5203-4584-e5e8-05481811a3b3"
      },
      "outputs": [
        {
          "output_type": "stream",
          "name": "stdout",
          "text": [
            "Sequência de 5 até 20, variando de 2 em 2: [ 5  7  9 11 13 15 17 19]\n",
            "Sequência de 5 até 20, variando de 5 em 5: [ 5 10 15]\n",
            "Sequência de 5 até 20, variando de 4 em 4: [ 5  9 13 17]\n"
          ]
        }
      ],
      "source": [
        "vet_seq1 = np.arange(5,20,2)\n",
        "print('Sequência de 5 até 20, variando de 2 em 2:', vet_seq1)\n",
        "\n",
        "vet_seq1 = np.arange(5,20,5)\n",
        "print('Sequência de 5 até 20, variando de 5 em 5:', vet_seq1)\n",
        "\n",
        "vet_seq1 = np.arange(5,20,4)\n",
        "print('Sequência de 5 até 20, variando de 4 em 4:', vet_seq1)"
      ]
    },
    {
      "cell_type": "markdown",
      "metadata": {
        "id": "t-hW4J3QRnM7"
      },
      "source": [
        "Vetores sequenciais podem ser usados em laços de repetição. Por exemplo, vamos imprimir todos os valores entre 2 e 10 usando um laço de repetição `for`."
      ]
    },
    {
      "cell_type": "code",
      "execution_count": null,
      "metadata": {
        "id": "hDXBUZeXRnM9",
        "colab": {
          "base_uri": "https://localhost:8080/"
        },
        "outputId": "aebe0fc3-5be3-48a9-d9f5-d906529698ad"
      },
      "outputs": [
        {
          "output_type": "stream",
          "name": "stdout",
          "text": [
            "2\n",
            "3\n",
            "4\n",
            "5\n",
            "6\n",
            "7\n",
            "8\n",
            "9\n",
            "10\n"
          ]
        }
      ],
      "source": [
        "for i in np.arange(2,11):\n",
        "    print('%d' %i)"
      ]
    },
    {
      "cell_type": "markdown",
      "metadata": {
        "id": "NcVmg1yiRnNA"
      },
      "source": [
        "Nós também podemos criar um vetor com $n$-zeros ou $n$-uns."
      ]
    },
    {
      "cell_type": "code",
      "execution_count": null,
      "metadata": {
        "id": "fvqYpk2oRnNB",
        "colab": {
          "base_uri": "https://localhost:8080/"
        },
        "outputId": "69ada7b4-0f99-4b0e-91ea-8a99cfb4fa91"
      },
      "outputs": [
        {
          "output_type": "stream",
          "name": "stdout",
          "text": [
            "Vetor de zeros:  [0. 0. 0. 0. 0. 0. 0. 0. 0. 0.]\n",
            "\n",
            "Vetor de uns:  [1. 1. 1. 1. 1. 1. 1. 1. 1. 1.]\n"
          ]
        }
      ],
      "source": [
        "# cria um vetor com 10-zeros\n",
        "vet_zeros = np.zeros(10)\n",
        "\n",
        "# cria um vetor com 10-uns\n",
        "vet_ones = np.ones(10)\n",
        "\n",
        "print('Vetor de zeros: ', vet_zeros)\n",
        "print('\\nVetor de uns: ', vet_ones)"
      ]
    },
    {
      "cell_type": "markdown",
      "metadata": {
        "id": "TUJiXgeuRnNC"
      },
      "source": [
        "Criando uma matriz com os valores: $\n",
        "  \\begin{bmatrix}\n",
        "    1 & 2 & 3 & 4 & 5 \\\\\n",
        "    6 & 7 & 8 & 9 & 10\n",
        "  \\end{bmatrix}$"
      ]
    },
    {
      "cell_type": "code",
      "execution_count": 7,
      "metadata": {
        "id": "Exn1mwu1RnNE",
        "colab": {
          "base_uri": "https://localhost:8080/",
          "height": 52
        },
        "outputId": "bd91a5f2-9e30-41df-d02a-a9d2426fde64"
      },
      "outputs": [
        {
          "output_type": "display_data",
          "data": {
            "text/plain": [
              "array([[ 1,  2,  3,  4,  5],\n",
              "       [ 6,  7,  8,  9, 10]])"
            ]
          },
          "metadata": {}
        }
      ],
      "source": [
        "# cria uma matriz\n",
        "A = np.array( [[1,2,3,4,5],[6,7,8,9,10]] )\n",
        "\n",
        "display(A)"
      ]
    },
    {
      "cell_type": "markdown",
      "metadata": {
        "id": "8cSPNOj8RnNF"
      },
      "source": [
        "Uma matriz é também uma imagem. Portanto, pode plotar a imagem gerada pela matriz acima. Para isso, você pode usar a função *imshow* da biblioteca biblioteca ```matplotlib.pyplot```.\n",
        "\n",
        "Obs.: converta a imagem para o tipo ```uint8``` usando a função ```astype```."
      ]
    },
    {
      "cell_type": "code",
      "execution_count": 8,
      "metadata": {
        "id": "LH1FAdWRRnNG",
        "colab": {
          "base_uri": "https://localhost:8080/",
          "height": 186
        },
        "outputId": "a3168b23-5f34-4d1b-cc09-bc40687c4284"
      },
      "outputs": [
        {
          "output_type": "display_data",
          "data": {
            "text/plain": [
              "<Figure size 432x288 with 1 Axes>"
            ],
            "image/png": "[encoded data removed]"
          },
          "metadata": {
            "needs_background": "light"
          }
        }
      ],
      "source": [
        "import matplotlib.pyplot as plt\n",
        "\n",
        "# converte para uint8\n",
        "A = A.astype(np.uint8)\n",
        "\n",
        "# plota a imagem A. Use o parâmetro 'gray'\n",
        "# para que a imagem seja mostrada em tons de cinza\n",
        "plt.imshow(A, 'gray')\n",
        "plt.show() # mostra a imagem"
      ]
    },
    {
      "cell_type": "code",
      "source": [
        "plt.imshow(A)\n",
        "plt.show() # mostra a imagem"
      ],
      "metadata": {
        "colab": {
          "base_uri": "https://localhost:8080/",
          "height": 186
        },
        "id": "py166a7YGiYn",
        "outputId": "80d99382-91fe-4ff3-e93e-aa85a3a1e3bc"
      },
      "execution_count": null,
      "outputs": [
        {
          "output_type": "display_data",
          "data": {
            "text/plain": [
              "<Figure size 432x288 with 1 Axes>"
            ],
            "image/png": "[encoded data removed]"
          },
          "metadata": {
            "needs_background": "light"
          }
        }
      ]
    },
    {
      "cell_type": "markdown",
      "metadata": {
        "id": "V_UORK_oRnNH"
      },
      "source": [
        "Caso você queira gerar uma imagem colorida, você deve criar uma matriz onde o valor de cada linha e coluna é um vetor de três dimensões cujos valores podem variar entre 0 e 255. \n",
        "\n",
        "Odefina a imagem com o tipo ```uint8```."
      ]
    },
    {
      "cell_type": "code",
      "execution_count": null,
      "metadata": {
        "id": "aSSYRqccRnNH",
        "colab": {
          "base_uri": "https://localhost:8080/",
          "height": 269
        },
        "outputId": "040814da-a6a8-4486-b7bd-2b7a1306ff5a"
      },
      "outputs": [
        {
          "output_type": "display_data",
          "data": {
            "text/plain": [
              "<Figure size 432x288 with 1 Axes>"
            ],
            "image/png": "[encoded data removed]"
          },
          "metadata": {
            "needs_background": "light"
          }
        }
      ],
      "source": [
        "# cria uma matriz\n",
        "B = np.array( [\n",
        "              [[0,0,255  ],[0,255,255],[255,0,0]],\n",
        "              [[255,0,255],[100,200,0],[0,255,0]]\n",
        "              ] )\n",
        "\n",
        "# plota a imagem A\n",
        "plt.imshow(B)\n",
        "plt.show() # mostra a imagem"
      ]
    },
    {
      "cell_type": "markdown",
      "metadata": {
        "id": "G5Ksoo_qRnNI"
      },
      "source": [
        "Nós também podemos criar uma matriz de valores zero e uma matriz de valores um:"
      ]
    },
    {
      "cell_type": "code",
      "execution_count": null,
      "metadata": {
        "id": "1rxyLXHZRnNJ",
        "colab": {
          "base_uri": "https://localhost:8080/",
          "height": 139
        },
        "outputId": "3f01615e-3007-447a-f36f-aa919ea85672"
      },
      "outputs": [
        {
          "output_type": "stream",
          "name": "stdout",
          "text": [
            "Vetor de zeros: \n"
          ]
        },
        {
          "output_type": "display_data",
          "data": {
            "text/plain": [
              "array([[0., 0., 0., 0., 0., 0., 0., 0., 0., 0.],\n",
              "       [0., 0., 0., 0., 0., 0., 0., 0., 0., 0.]])"
            ]
          },
          "metadata": {}
        },
        {
          "output_type": "stream",
          "name": "stdout",
          "text": [
            "\n",
            "Vetor de valores um: \n"
          ]
        },
        {
          "output_type": "display_data",
          "data": {
            "text/plain": [
              "array([[1., 1., 1., 1., 1., 1., 1., 1., 1., 1.],\n",
              "       [1., 1., 1., 1., 1., 1., 1., 1., 1., 1.]])"
            ]
          },
          "metadata": {}
        }
      ],
      "source": [
        "# cria um array de valores zeros com dimensão 2x10\n",
        "array_zeros = np.zeros( [2,10] )\n",
        "\n",
        "# cria um array de valores um com dimensão 2x10\n",
        "array_ones = np.ones( [2,10] )\n",
        "\n",
        "print('Vetor de zeros: ')\n",
        "display(array_zeros)\n",
        "\n",
        "print('\\nVetor de valores um: ')\n",
        "display(array_ones)"
      ]
    },
    {
      "cell_type": "markdown",
      "metadata": {
        "id": "8O_irpx1RnNK"
      },
      "source": [
        "## Selecionando elementos de vetores e matrizes\n",
        "\n",
        "Suponha que temos um vetor $[a,b,c,d,e,f,g,h,i]$. Nós podemos selecionar vários subconjuntos de elementos desse vetor, como: \n",
        "\n",
        "- três primeiros elementos\n",
        "- todos os valores após o quinto elemento\n",
        "- os três ultimos valores\n",
        "- os valores entre o quinta elemento até o penúltimo elemento\n",
        "\n",
        "**Observação**: no python, o índice começa a contar em 0."
      ]
    },
    {
      "cell_type": "code",
      "execution_count": null,
      "metadata": {
        "id": "La6dDOIARnNL",
        "colab": {
          "base_uri": "https://localhost:8080/"
        },
        "outputId": "d23f728c-23c2-469d-be5b-71a352660db4"
      },
      "outputs": [
        {
          "output_type": "stream",
          "name": "stdout",
          "text": [
            "Três primeiros elementos de vetA: \n",
            "['a' 'b' 'c']\n",
            "\n",
            "todos os valores após o Quinto elementos de vetA: \n",
            "['f' 'g' 'h' 'i']\n",
            "\n",
            "Os três ultimos valores de vetA: \n",
            "['g' 'h' 'i']\n",
            "\n",
            "Os valores de vetA entre o 5 elemento até o penúltimo elemento: \n",
            "['e' 'f' 'g'] ou ['e' 'f' 'g']\n"
          ]
        }
      ],
      "source": [
        "# criando um vetor\n",
        "vetA = np.array(['a','b','c','d','e','f','g','h','i'])\n",
        "\n",
        "print('Três primeiros elementos de vetA: ')\n",
        "print( vetA[0:3] )\n",
        "\n",
        "print('\\ntodos os valores após o Quinto elementos de vetA: ')\n",
        "print( vetA[5:] )\n",
        "\n",
        "print('\\nOs três ultimos valores de vetA: ')\n",
        "print( vetA[-3:] )\n",
        "\n",
        "print('\\nOs valores de vetA entre o 5 elemento até o penúltimo elemento: ')\n",
        "print( vetA[4:-2], 'ou', vetA[4:7] )"
      ]
    },
    {
      "cell_type": "markdown",
      "metadata": {
        "id": "A3L3q6VzRnNL"
      },
      "source": [
        "Suponha que temos um array: $\\begin{bmatrix}\n",
        "    1a & 1b & 1c & 1d & 1e & 1f & 1g & 1h & 1i \\\\\n",
        "    2a & 2b & 2c & 2d & 2e & 2f & 2g & 2h & 2i \\\\\n",
        "    3a & 3b & 3c & 3d & 3e & 3f & 3g & 3h & 3i \\\\\n",
        "    4a & 4b & 4c & 4d & 4e & 4f & 4g & 4h & 4i \\\\\n",
        "  \\end{bmatrix}$.\n",
        "\n",
        "Nós podemos selecionar vários subconjuntos de elementos dessa matriz, como:\n",
        "- todos os elementos da coluna 3\n",
        "- todos os elementos da linha 2\n",
        "- todos os elementos das duas primeiras colunas\n",
        "- todos os elementos das duas primeiras linhas\n",
        "- apenas os elementos das 2 primeiras linhas e das 2 primeiras colunas\n",
        "- apenas os elementos das 2 últimas linhas e das 4 últimas colunas\n",
        "- apenas os elementos das linhas 2 até 4 e das colunas 4 até 6"
      ]
    },
    {
      "cell_type": "code",
      "execution_count": null,
      "metadata": {
        "id": "LYnJsd0mRnNM",
        "colab": {
          "base_uri": "https://localhost:8080/"
        },
        "outputId": "172a5dab-356d-45f4-cbaf-6f4397521bef"
      },
      "outputs": [
        {
          "output_type": "stream",
          "name": "stdout",
          "text": [
            "Matriz inteira: \n",
            "[['1a' '1b' '1c' '1d' '1e' '1f' '1g' '1h' '1i']\n",
            " ['2a' '2b' '2c' '2d' '2e' '2f' '2g' '2h' '2i']\n",
            " ['3a' '3b' '3c' '3d' '3e' '3f' '3g' '3h' '3i']\n",
            " ['4a' '4b' '4c' '4d' '4e' '4f' '4g' '4h' '4i']]\n",
            "\n",
            "Todos os elementos da coluna 3: \n",
            "['1c' '2c' '3c' '4c']\n",
            "\n",
            "Todos os elementos da linha 2: \n",
            "[['2a' '2b' '2c' '2d' '2e' '2f' '2g' '2h' '2i']\n",
            " ['3a' '3b' '3c' '3d' '3e' '3f' '3g' '3h' '3i']\n",
            " ['4a' '4b' '4c' '4d' '4e' '4f' '4g' '4h' '4i']]\n",
            "\n",
            "Todos os elementos das 2 primeiras colunas: \n",
            "[['1a' '1b']\n",
            " ['2a' '2b']\n",
            " ['3a' '3b']\n",
            " ['4a' '4b']]\n",
            "\n",
            "Todos os elementos das 2 primeiras linhas: \n",
            "[['1a' '1b' '1c' '1d' '1e' '1f' '1g' '1h' '1i']\n",
            " ['2a' '2b' '2c' '2d' '2e' '2f' '2g' '2h' '2i']]\n",
            "\n",
            "Apenas os elementos das 2 primeiras linhas e das 2 primeiras colunas: \n",
            "[['1a' '1b']\n",
            " ['2a' '2b']]\n",
            "\n",
            "Apenas os elementos das 2 últimas linhas e das 4 últimas colunas: \n",
            "[['3f' '3g' '3h' '3i']\n",
            " ['4f' '4g' '4h' '4i']]\n",
            "\n",
            "Apenas os elementos das linhas 2 até 4 e das colunas 4 até 6: \n",
            "[['2d' '2e' '2f']\n",
            " ['3d' '3e' '3f']]\n"
          ]
        }
      ],
      "source": [
        "# criando uma matriz\n",
        "arrayA = np.array( [['1a','1b','1c','1d','1e','1f','1g','1h','1i'],\n",
        "                    ['2a','2b','2c','2d','2e','2f','2g','2h','2i'],\n",
        "                    ['3a','3b','3c','3d','3e','3f','3g','3h','3i'],\n",
        "                    ['4a','4b','4c','4d','4e','4f','4g', '4h','4i']])\n",
        "\n",
        "print('Matriz inteira: ')\n",
        "print( arrayA )\n",
        "\n",
        "print('\\nTodos os elementos da coluna 3: ')\n",
        "print( arrayA[:,2] )\n",
        "\n",
        "print('\\nTodos os elementos da linha 2: ')\n",
        "print( arrayA[1:,:] )\n",
        "\n",
        "print('\\nTodos os elementos das 2 primeiras colunas: ')\n",
        "print( arrayA[:,0:2] )\n",
        "\n",
        "print('\\nTodos os elementos das 2 primeiras linhas: ')\n",
        "print( arrayA[0:2,:] )\n",
        "\n",
        "print('\\nApenas os elementos das 2 primeiras linhas e das 2 primeiras colunas: ')\n",
        "print( arrayA[0:2,0:2] )\n",
        "\n",
        "print('\\nApenas os elementos das 2 últimas linhas e das 4 últimas colunas: ')\n",
        "print( arrayA[-2:,-4:] )\n",
        "\n",
        "print('\\nApenas os elementos das linhas 2 até 4 e das colunas 4 até 6: ')\n",
        "print( arrayA[1:3,3:6] )"
      ]
    },
    {
      "cell_type": "markdown",
      "metadata": {
        "id": "ktPy5LumRnNN"
      },
      "source": [
        "Nós podemos combinar as operações mostradas acima para gerar imagens. Por exemplo, no exemplo abaixo, iremos criar uma imagem toda azul."
      ]
    },
    {
      "cell_type": "code",
      "execution_count": null,
      "metadata": {
        "id": "dh7yuTSIRnNN",
        "colab": {
          "base_uri": "https://localhost:8080/",
          "height": 269
        },
        "outputId": "ae72e87d-0f69-441f-e7b6-616868fa6faf"
      },
      "outputs": [
        {
          "output_type": "display_data",
          "data": {
            "text/plain": [
              "<Figure size 432x288 with 1 Axes>"
            ],
            "image/png": "[encoded data removed]"
          },
          "metadata": {
            "needs_background": "light"
          }
        }
      ],
      "source": [
        "# cria uma matriz de 2x2x3 com \n",
        "# todos os valores 0\n",
        "img1 = np.zeros([2,2,3], dtype=int)\n",
        "\n",
        "# agora iremos colocar o valor 255 no terceiro \n",
        "# canal de cor (índice 2) de cada linha e coluna\n",
        "img1[ :,:,2 ] = 255\n",
        "\n",
        "# plota a imagem.\n",
        "plt.imshow(img1)\n",
        "plt.show() # mostra a imagem"
      ]
    },
    {
      "cell_type": "markdown",
      "metadata": {
        "id": "DVpnG7stRnNO"
      },
      "source": [
        "Agora, iremos misturar a cor azul da imagem com uma nova cor: a verde. Para isso, iremos adicionar a cor verde no segundo canal de cor de cada pixel da primeira coluna da imagem."
      ]
    },
    {
      "cell_type": "code",
      "execution_count": null,
      "metadata": {
        "id": "-z6AnVQgRnNO",
        "colab": {
          "base_uri": "https://localhost:8080/",
          "height": 269
        },
        "outputId": "1d402c88-ee31-43af-dc59-d5b4f2a0d814"
      },
      "outputs": [
        {
          "output_type": "display_data",
          "data": {
            "text/plain": [
              "<Figure size 432x288 with 1 Axes>"
            ],
            "image/png": "[encoded data removed]"
          },
          "metadata": {
            "needs_background": "light"
          }
        }
      ],
      "source": [
        "# iremos colocar o valor 255 no segundo\n",
        "# canal de cor (índice 1) de primeira coluna da imagem\n",
        "img1[ :,0,1 ] = 255\n",
        "\n",
        "# plota a imagem\n",
        "plt.imshow(img1)\n",
        "plt.show() # mostra a imagem"
      ]
    },
    {
      "cell_type": "markdown",
      "metadata": {
        "id": "6txyZUT0RnNP"
      },
      "source": [
        "Iremos pintar a última linha com a cor vermelha."
      ]
    },
    {
      "cell_type": "code",
      "execution_count": null,
      "metadata": {
        "id": "ymjtXqBURnNP",
        "colab": {
          "base_uri": "https://localhost:8080/",
          "height": 269
        },
        "outputId": "c970e1de-c487-473e-da27-0efb4d34e9f5"
      },
      "outputs": [
        {
          "output_type": "display_data",
          "data": {
            "text/plain": [
              "<Figure size 432x288 with 1 Axes>"
            ],
            "image/png": "[encoded data removed]"
          },
          "metadata": {
            "needs_background": "light"
          }
        }
      ],
      "source": [
        "# iremos colocar a cor vermelha na última linha\n",
        "img1[-1,:,: ] = [255,0,0]\n",
        "\n",
        "# plota a imagem\n",
        "plt.imshow(img1)\n",
        "plt.show() # mostra a imagem"
      ]
    },
    {
      "cell_type": "markdown",
      "metadata": {
        "id": "PQwbCDD_RnNQ"
      },
      "source": [
        "## Operações básicas com vetores e matrizes\n",
        "\n",
        "Soma e subtração entre vetores."
      ]
    },
    {
      "cell_type": "code",
      "execution_count": 9,
      "metadata": {
        "id": "11mF43APRnNQ",
        "outputId": "042ddf85-be21-4d37-a9b4-027b89da0c27",
        "colab": {
          "base_uri": "https://localhost:8080/"
        }
      },
      "outputs": [
        {
          "output_type": "stream",
          "name": "stdout",
          "text": [
            "A: [1 2 3]\n",
            "B: [4 5 6]\n",
            "\n",
            "A+B:  [5 7 9]\n",
            "A-B:  [-3 -3 -3]\n"
          ]
        }
      ],
      "source": [
        "A = np.array( [1,2,3] )\n",
        "B = np.array( [4,5,6] )\n",
        "print('A:', A);\n",
        "print('B:', B);\n",
        "\n",
        "print('\\nA+B: ', A+B )\n",
        "print('A-B: ', A-B )"
      ]
    },
    {
      "cell_type": "markdown",
      "metadata": {
        "id": "H9Gh6oP9RnNR"
      },
      "source": [
        "Soma e subtração entre matrizes."
      ]
    },
    {
      "cell_type": "code",
      "execution_count": 10,
      "metadata": {
        "id": "Ix0CKL6aRnNS",
        "colab": {
          "base_uri": "https://localhost:8080/",
          "height": 277
        },
        "outputId": "9441c862-84cb-4493-e4e2-e3b24fcb59a4"
      },
      "outputs": [
        {
          "output_type": "stream",
          "name": "stdout",
          "text": [
            "X1: \n",
            " [[1 2 3]\n",
            " [4 5 6]]\n",
            "\n",
            "X2: \n",
            " [[4 5 6]\n",
            " [7 8 9]]\n",
            "\n",
            "X1+X2:\n"
          ]
        },
        {
          "output_type": "display_data",
          "data": {
            "text/plain": [
              "array([[ 5,  7,  9],\n",
              "       [11, 13, 15]])"
            ]
          },
          "metadata": {}
        },
        {
          "output_type": "stream",
          "name": "stdout",
          "text": [
            "\n",
            "X1-X2:\n"
          ]
        },
        {
          "output_type": "display_data",
          "data": {
            "text/plain": [
              "array([[-3, -3, -3],\n",
              "       [-3, -3, -3]])"
            ]
          },
          "metadata": {}
        }
      ],
      "source": [
        "X1 = np.array( [[1,2,3],\n",
        "                [4,5,6]] )\n",
        "\n",
        "X2 = np.array( [[4,5,6],\n",
        "                [7,8,9]])\n",
        "\n",
        "print('X1: \\n', X1);\n",
        "print('\\nX2: \\n', X2);\n",
        "\n",
        "print('\\nX1+X2:')\n",
        "display(X1+X2)\n",
        "\n",
        "print('\\nX1-X2:')\n",
        "display(X1-X2)"
      ]
    },
    {
      "cell_type": "markdown",
      "metadata": {
        "id": "bAVh2YmERnNS"
      },
      "source": [
        "Produto entre duas matrizes.\n",
        "\n",
        "Obs.: para isso ser possível, a quantidade de colunas da primeira, deve ser igual a quantidade de linhas da segunda"
      ]
    },
    {
      "cell_type": "code",
      "execution_count": 11,
      "metadata": {
        "id": "aetBb1PURnNT",
        "colab": {
          "base_uri": "https://localhost:8080/",
          "height": 208
        },
        "outputId": "d1984813-95e8-4035-f520-fd763c2b299e"
      },
      "outputs": [
        {
          "output_type": "stream",
          "name": "stdout",
          "text": [
            "A: \n"
          ]
        },
        {
          "output_type": "display_data",
          "data": {
            "text/plain": [
              "array([[1, 2],\n",
              "       [3, 4],\n",
              "       [5, 6]])"
            ]
          },
          "metadata": {}
        },
        {
          "output_type": "stream",
          "name": "stdout",
          "text": [
            "B: \n"
          ]
        },
        {
          "output_type": "display_data",
          "data": {
            "text/plain": [
              "array([[1, 2, 3, 4],\n",
              "       [5, 6, 7, 8]])"
            ]
          },
          "metadata": {}
        },
        {
          "output_type": "stream",
          "name": "stdout",
          "text": [
            "A*B: \n"
          ]
        },
        {
          "output_type": "display_data",
          "data": {
            "text/plain": [
              "array([[11, 14, 17, 20],\n",
              "       [23, 30, 37, 44],\n",
              "       [35, 46, 57, 68]])"
            ]
          },
          "metadata": {}
        }
      ],
      "source": [
        "A = np.array( ([[1,2],[3,4],[5,6]]) )\n",
        "B = np.array( ([[1,2,3,4],[5,6,7,8]]) )\n",
        "\n",
        "print('A: ')\n",
        "display(A)\n",
        "\n",
        "print('B: ')\n",
        "display(B)\n",
        "\n",
        "print('A*B: ')\n",
        "display(np.dot(A,B)) "
      ]
    },
    {
      "cell_type": "markdown",
      "source": [
        "Se eu quiser fazer a multiplicação matricial da matriz A por ela mesma, não é possível pois a quantidade de linhas dela é diferente da quantidade de colunas. \n",
        "\n",
        "Porém, eu consigo resolver esse problema, multiplicando A pela sua transposta. "
      ],
      "metadata": {
        "id": "8BInDyAJWSoK"
      }
    },
    {
      "cell_type": "code",
      "source": [
        "# faz a transposta de A\n",
        "Atransp = A.T\n",
        "\n",
        "# multiplica A por A.T\n",
        "prod = np.dot(A,Atransp)\n",
        "\n",
        "print(prod)"
      ],
      "metadata": {
        "id": "XCF-q8lrWV6K",
        "colab": {
          "base_uri": "https://localhost:8080/"
        },
        "outputId": "d65d7cd5-97c3-485d-c8b6-c8d68c9070e8"
      },
      "execution_count": null,
      "outputs": [
        {
          "output_type": "stream",
          "name": "stdout",
          "text": [
            "[[ 5 11 17]\n",
            " [11 25 39]\n",
            " [17 39 61]]\n"
          ]
        }
      ]
    },
    {
      "cell_type": "markdown",
      "metadata": {
        "id": "-HcVxSErRnNT"
      },
      "source": [
        "Média dos valores de uma matriz."
      ]
    },
    {
      "cell_type": "code",
      "execution_count": null,
      "metadata": {
        "id": "xa6DRI-5RnNU",
        "colab": {
          "base_uri": "https://localhost:8080/",
          "height": 225
        },
        "outputId": "50ffd18d-9527-4c82-ccad-9ded5e40cc1a"
      },
      "outputs": [
        {
          "output_type": "stream",
          "name": "stdout",
          "text": [
            "B: \n"
          ]
        },
        {
          "output_type": "display_data",
          "data": {
            "text/plain": [
              "array([[1, 2, 3, 4],\n",
              "       [5, 6, 7, 8]])"
            ]
          },
          "metadata": {}
        },
        {
          "output_type": "stream",
          "name": "stdout",
          "text": [
            "\n",
            "Média das linhas de B: \n"
          ]
        },
        {
          "output_type": "display_data",
          "data": {
            "text/plain": [
              "array([2.5, 6.5])"
            ]
          },
          "metadata": {}
        },
        {
          "output_type": "stream",
          "name": "stdout",
          "text": [
            "\n",
            "Média das colunas de B: \n"
          ]
        },
        {
          "output_type": "display_data",
          "data": {
            "text/plain": [
              "array([3., 4., 5., 6.])"
            ]
          },
          "metadata": {}
        },
        {
          "output_type": "stream",
          "name": "stdout",
          "text": [
            "\n",
            "Média de todos os valores de B: \n"
          ]
        },
        {
          "output_type": "display_data",
          "data": {
            "text/plain": [
              "4.5"
            ]
          },
          "metadata": {}
        }
      ],
      "source": [
        "print('B: ')\n",
        "display(B)\n",
        "\n",
        "# média das linhas de B\n",
        "media1 = np.mean(B, axis = 1)\n",
        "print('\\nMédia das linhas de B: ')\n",
        "display(media1)\n",
        "\n",
        "# média das colunas de B\n",
        "media2 = np.mean(B, axis = 0)\n",
        "print('\\nMédia das colunas de B: ')\n",
        "display(media2)\n",
        "\n",
        "# média de todos os valores de B \n",
        "media3 = np.mean(B)\n",
        "print('\\nMédia de todos os valores de B: ')\n",
        "display(media3)\n",
        "\n"
      ]
    },
    {
      "cell_type": "markdown",
      "metadata": {
        "id": "ym5NeWCARnNU"
      },
      "source": [
        "Desvio padrão dos valores de uma matriz."
      ]
    },
    {
      "cell_type": "code",
      "execution_count": null,
      "metadata": {
        "id": "tqqE1ezXRnNU",
        "colab": {
          "base_uri": "https://localhost:8080/",
          "height": 225
        },
        "outputId": "4d135b42-ee6d-462d-f365-50aad215ad06"
      },
      "outputs": [
        {
          "output_type": "stream",
          "name": "stdout",
          "text": [
            "B: \n"
          ]
        },
        {
          "output_type": "display_data",
          "data": {
            "text/plain": [
              "array([[1, 2, 3, 4],\n",
              "       [5, 6, 7, 8]])"
            ]
          },
          "metadata": {}
        },
        {
          "output_type": "stream",
          "name": "stdout",
          "text": [
            "\n",
            "Desvio padrão das linhas de B: \n"
          ]
        },
        {
          "output_type": "display_data",
          "data": {
            "text/plain": [
              "array([1.29099445, 1.29099445])"
            ]
          },
          "metadata": {}
        },
        {
          "output_type": "stream",
          "name": "stdout",
          "text": [
            "\n",
            "Desvio padrão das colunas de B: \n"
          ]
        },
        {
          "output_type": "display_data",
          "data": {
            "text/plain": [
              "array([2.82842712, 2.82842712, 2.82842712, 2.82842712])"
            ]
          },
          "metadata": {}
        },
        {
          "output_type": "stream",
          "name": "stdout",
          "text": [
            "\n",
            "Desvio padrão de todos os valores de B: \n"
          ]
        },
        {
          "output_type": "display_data",
          "data": {
            "text/plain": [
              "2.449489742783178"
            ]
          },
          "metadata": {}
        }
      ],
      "source": [
        "print('B: ')\n",
        "display(B)\n",
        "\n",
        "# desvio padrão das linhas de B\n",
        "std1 = np.std(B, axis = 1, ddof=1)\n",
        "print('\\nDesvio padrão das linhas de B: ')\n",
        "display(std1)\n",
        "\n",
        "# desvio padrão das colunas de B\n",
        "std2 = np.std(B, axis = 0, ddof=1)\n",
        "print('\\nDesvio padrão das colunas de B: ')\n",
        "display(std2)\n",
        "\n",
        "# desvio padrão de todos os valores de B \n",
        "std3 = np.std(B, ddof=1)\n",
        "print('\\nDesvio padrão de todos os valores de B: ')\n",
        "display(std3)\n",
        "\n"
      ]
    },
    {
      "cell_type": "markdown",
      "metadata": {
        "id": "xYBLkVxvRnNU"
      },
      "source": [
        "Mediana dos valores de uma matriz"
      ]
    },
    {
      "cell_type": "code",
      "execution_count": null,
      "metadata": {
        "id": "COEOdMm-RnNV",
        "colab": {
          "base_uri": "https://localhost:8080/",
          "height": 243
        },
        "outputId": "0e2593b1-ef1f-460c-e3d0-051eebc6daeb"
      },
      "outputs": [
        {
          "output_type": "stream",
          "name": "stdout",
          "text": [
            "A: \n"
          ]
        },
        {
          "output_type": "display_data",
          "data": {
            "text/plain": [
              "array([[1, 2],\n",
              "       [3, 4],\n",
              "       [5, 6]])"
            ]
          },
          "metadata": {}
        },
        {
          "output_type": "stream",
          "name": "stdout",
          "text": [
            "\n",
            "Mediana das linhas de A: \n"
          ]
        },
        {
          "output_type": "display_data",
          "data": {
            "text/plain": [
              "array([1.5, 3.5, 5.5])"
            ]
          },
          "metadata": {}
        },
        {
          "output_type": "stream",
          "name": "stdout",
          "text": [
            "\n",
            "Mediana das colunas de A: \n"
          ]
        },
        {
          "output_type": "display_data",
          "data": {
            "text/plain": [
              "array([3., 4.])"
            ]
          },
          "metadata": {}
        },
        {
          "output_type": "stream",
          "name": "stdout",
          "text": [
            "\n",
            "Mediana de todos os valores de A: \n"
          ]
        },
        {
          "output_type": "display_data",
          "data": {
            "text/plain": [
              "3.5"
            ]
          },
          "metadata": {}
        }
      ],
      "source": [
        "print('A: ')\n",
        "display(A)\n",
        "\n",
        "# média das linhas de B\n",
        "mediana1 = np.median(A, axis = 1)\n",
        "print('\\nMediana das linhas de A: ')\n",
        "display(mediana1)\n",
        "\n",
        "# média das colunas de B\n",
        "mediana2 = np.median(A, axis = 0)\n",
        "print('\\nMediana das colunas de A: ')\n",
        "display(mediana2)\n",
        "\n",
        "# média de todos os valores de B \n",
        "mediana3 = np.median(A)\n",
        "print('\\nMediana de todos os valores de A: ')\n",
        "display(mediana3)"
      ]
    },
    {
      "cell_type": "markdown",
      "metadata": {
        "id": "rQ96Et6zRnNV"
      },
      "source": [
        "Outras funções para vetores e matrizes.\n",
        "* `np.min()` &rarr; valor mínimo\n",
        "* `np.max()` &rarr; valor máximo\n",
        "* `np.sort(A)` &rarr; retorna o vetor $A$ ordenado\n",
        "* `np.argsort(A)` &rarr; retorna os índices do vetor $A$ ordenado\n",
        "* `np.var()` &rarr; variância\n",
        "* `np.shape()` &rarr; dimensões da matriz\n",
        "* `np.transpose()` &rarr; transposta da matriz\n",
        "* `np.concatenate(arrays, axis=numero_do_eixo)` &rarr; concatena vetores ou matrizes\n",
        "* `vstack(A,B)` &rarr; empilha verticalmente\n",
        "* `hstack(A,B)` &rarr; empilha horizontalmente\n",
        "* `np.where(A>n)` &rarr; elementos em $A$ maiores que $n$"
      ]
    },
    {
      "cell_type": "markdown",
      "metadata": {
        "id": "4XOiY_jvRnNW"
      },
      "source": [
        "## Exercícios\n",
        "\n",
        "**Ex. 1**. Crie duas matrizes com os nomes $ExA$ e $ExB$ preenchidas com os seguintes valores:\n",
        "\n",
        "$ExA = \\begin{bmatrix}\n",
        "    12 & 9 & 4 & 1 \\\\\n",
        "    11 & 5 & 8 & 1 \\\\\n",
        "    1 & 2 & 3 & 1 \\\\\n",
        "  \\end{bmatrix}\n",
        "$, \n",
        "$\n",
        "ExB = \\begin{bmatrix}\n",
        "    1 & 5 \\\\\n",
        "    1 & 7 \\\\\n",
        "    1 & 9 \\\\\n",
        "    1 & 1 \\\\\n",
        "  \\end{bmatrix}\n",
        "$. Após isso, imprima as duas matrizes."
      ]
    },
    {
      "cell_type": "code",
      "execution_count": 12,
      "metadata": {
        "id": "vS8Vw-DqRnNW",
        "colab": {
          "base_uri": "https://localhost:8080/"
        },
        "outputId": "1d749a3e-22cc-4aff-c53f-eeab6ac25118"
      },
      "outputs": [
        {
          "output_type": "stream",
          "name": "stdout",
          "text": [
            "Matriz A:\n",
            " [[12  9  4  1]\n",
            " [11  5  8  1]\n",
            " [ 1  2  3  1]]\n",
            "\n",
            "Matriz B:\n",
            " [[1 5]\n",
            " [1 7]\n",
            " [1 9]\n",
            " [1 1]]\n"
          ]
        }
      ],
      "source": [
        "################# ESCREVA SEU CÓDIGO AQUI  ###############################\n",
        "ExA = np.array( [[12,9,4,1],\n",
        "                [11,5,8,1],\n",
        "                [1,2,3,1]] )\n",
        "\n",
        "ExB = np.array( [[1,5],\n",
        "                [1,7],\n",
        "                [1,9],\n",
        "                [1,1]] )\n",
        "\n",
        "print('Matriz A:\\n', ExA)\n",
        "print('\\nMatriz B:\\n', ExB)\n",
        "\n",
        "##########################################################################"
      ]
    },
    {
      "cell_type": "markdown",
      "metadata": {
        "id": "gA9I4KinRnNX"
      },
      "source": [
        "**Ex. 2**. Crie uma matriz $ExC$ usando a seguinte operação: $ExC = ExA \\cdot ExB$. Depois, imprima $ExC$. "
      ]
    },
    {
      "cell_type": "code",
      "execution_count": 13,
      "metadata": {
        "id": "z6K8aIQ0RnNY",
        "colab": {
          "base_uri": "https://localhost:8080/"
        },
        "outputId": "28ecfe52-b24e-4a04-e335-7a4a696edff0"
      },
      "outputs": [
        {
          "output_type": "stream",
          "name": "stdout",
          "text": [
            "\n",
            "Matriz C:\n",
            " [[ 26 160]\n",
            " [ 25 163]\n",
            " [  7  47]]\n"
          ]
        }
      ],
      "source": [
        "################# ESCREVA SEU CÓDIGO AQUI  ###############################\n",
        "ExC = np.dot(ExA,ExB)\n",
        "\n",
        "print('\\nMatriz C:\\n', ExC)\n",
        "\n",
        "##########################################################################"
      ]
    },
    {
      "cell_type": "markdown",
      "metadata": {
        "id": "O9RK9CP4RnNY"
      },
      "source": [
        "**Ex. 3**. Crie uma função que retorne a média e o desvio padrão das linhas de uma matriz e a média e desvio padrão das colunas de uma matriz. Depois teste sua função com a matriz $ExC$."
      ]
    },
    {
      "cell_type": "code",
      "execution_count": 19,
      "metadata": {
        "id": "9ubcjTVzRnNY",
        "colab": {
          "base_uri": "https://localhost:8080/"
        },
        "outputId": "7a8f0e68-210e-4221-afea-afd2171d8a99"
      },
      "outputs": [
        {
          "output_type": "stream",
          "name": "stdout",
          "text": [
            "\n",
            "Matriz C:\n",
            " [[ 26 160]\n",
            " [ 25 163]\n",
            " [  7  47]]\n",
            "\n",
            "Media das linhas da matriz:  [93. 94. 27.]\n",
            "\n",
            "Desvio Padrão das linhas da matriz:  [94.75230868 97.5807358  28.28427125]\n",
            "\n",
            "\n",
            "Media das colunas da matriz:  [ 25. 160.]\n",
            "\n",
            "Desvio Padrão das colunas da matriz:  [10.69267662 66.1236216 ]\n"
          ]
        }
      ],
      "source": [
        "################# ESCREVA SEU CÓDIGO AQUI  ###############################\n",
        "def calcula(matriz):\n",
        "  ml, mc, m = media(matriz)\n",
        "  dl, dc, d = desvio_p(matriz)\n",
        "\n",
        "  print('\\nMatriz C:\\n', matriz)\n",
        "\n",
        "  print('\\nMedia das linhas da matriz: ', ml)\n",
        "  print('\\nDesvio Padrão das linhas da matriz: ',dl)\n",
        "\n",
        "  print('\\n\\nMedia das colunas da matriz: ', mc)\n",
        "  print('\\nDesvio Padrão das colunas da matriz: ',dc)\n",
        "\n",
        "def media(matriz): \n",
        "  mediaLinhas = np.median(matriz, axis = 1)\n",
        "  mediaColunas = np.median(matriz, axis = 0)\n",
        "  mediaTotal = np.median(matriz)\n",
        "  return mediaLinhas, mediaColunas, mediaTotal\n",
        "\n",
        "def desvio_p(matriz):  \n",
        "  desvioLinhas = np.std(matriz, axis = 1, ddof=1)\n",
        "  desvioColunas = np.std(matriz, axis = 0, ddof=1)\n",
        "  desvioTotal = np.std(matriz, ddof=1)\n",
        "  return desvioLinhas, desvioColunas, desvioTotal\n",
        "\n",
        "\n",
        "calcula(ExC)\n",
        "\n",
        "##########################################################################"
      ]
    },
    {
      "cell_type": "markdown",
      "metadata": {
        "id": "oQwsVJmuRnNZ"
      },
      "source": [
        "**Ex. 4**. Crie uma matriz $ExD$ com os valores das duas últimas colunas de $ExA$. Depois, calcule a média dos valores de $ExD$."
      ]
    },
    {
      "cell_type": "code",
      "execution_count": 28,
      "metadata": {
        "scrolled": true,
        "id": "meTg9LxtRnNZ",
        "colab": {
          "base_uri": "https://localhost:8080/"
        },
        "outputId": "549e1fcb-985d-4b46-89da-d4a9304e7d98"
      },
      "outputs": [
        {
          "output_type": "stream",
          "name": "stdout",
          "text": [
            "ExD: \n",
            " [[4 1]\n",
            " [8 1]\n",
            " [3 1]]\n",
            "\n",
            "Media:  2.0\n"
          ]
        }
      ],
      "source": [
        "################# ESCREVA SEU CÓDIGO AQUI  ###############################\n",
        "ExD = np.array(ExA[:,-2:])\n",
        "\n",
        "ml, mc, m = media(ExD)\n",
        "print('ExD: \\n', ExD)\n",
        "print('\\nMedia: ', m)\n",
        "\n",
        "##########################################################################"
      ]
    },
    {
      "cell_type": "markdown",
      "metadata": {
        "id": "_AtLmfFFRnNZ"
      },
      "source": [
        "**Ex. 5**. Crie uma matriz $ExE$ com os valores das linhas 1 e 2 e das colunas 1 e 2 de $ExA$."
      ]
    },
    {
      "cell_type": "code",
      "execution_count": 40,
      "metadata": {
        "scrolled": true,
        "id": "bGrnm8umRnNa",
        "colab": {
          "base_uri": "https://localhost:8080/"
        },
        "outputId": "b5889203-ac41-478c-fc66-2a1a3a37512d"
      },
      "outputs": [
        {
          "output_type": "stream",
          "name": "stdout",
          "text": [
            "ExA: \n",
            " [[12  9  4  1]\n",
            " [11  5  8  1]\n",
            " [ 1  2  3  1]]\n",
            "\n",
            "ExE: \n",
            " [[12  9]\n",
            " [11  5]]\n"
          ]
        }
      ],
      "source": [
        "################# ESCREVA SEU CÓDIGO AQUI  ###############################\n",
        "ExE = np.array(ExA[0:2,0:2])\n",
        "\n",
        "print('ExA: \\n', ExA)\n",
        "print('\\nExE: \\n', ExE)\n",
        "\n",
        "##########################################################################"
      ]
    },
    {
      "cell_type": "markdown",
      "metadata": {
        "id": "gpD2Es5yRnNa"
      },
      "source": [
        "**Ex. 6**. Crie e imprima uma matriz $ExF$ com 5 linhas e 2 colunas e todos os valores iguais a 0."
      ]
    },
    {
      "cell_type": "code",
      "execution_count": 42,
      "metadata": {
        "id": "3qQJXSElRnNa",
        "colab": {
          "base_uri": "https://localhost:8080/"
        },
        "outputId": "84b3d9fc-5053-4f80-b9fa-6a414b06f94e"
      },
      "outputs": [
        {
          "output_type": "stream",
          "name": "stdout",
          "text": [
            "ExF: \n",
            " [[0. 0.]\n",
            " [0. 0.]\n",
            " [0. 0.]\n",
            " [0. 0.]\n",
            " [0. 0.]]\n"
          ]
        }
      ],
      "source": [
        "################# ESCREVA SEU CÓDIGO AQUI  ###############################\n",
        "ExF = np.zeros( [5,2] )\n",
        "\n",
        "print('ExF: \\n', ExF)\n",
        "\n",
        "##########################################################################"
      ]
    },
    {
      "cell_type": "markdown",
      "metadata": {
        "id": "Ihook59ORnNb"
      },
      "source": [
        "**Ex. 7**. Crie e imprima uma matriz $ExG$ com 4 linhas e 3 colunas e todos os valores iguais a 1."
      ]
    },
    {
      "cell_type": "code",
      "execution_count": 43,
      "metadata": {
        "id": "yfJV6YSvRnNb",
        "colab": {
          "base_uri": "https://localhost:8080/"
        },
        "outputId": "7717df08-5dac-41e2-8d61-1e355ef04d24"
      },
      "outputs": [
        {
          "output_type": "stream",
          "name": "stdout",
          "text": [
            "ExG: \n",
            " [[1. 1. 1.]\n",
            " [1. 1. 1.]\n",
            " [1. 1. 1.]\n",
            " [1. 1. 1.]]\n"
          ]
        }
      ],
      "source": [
        "################# ESCREVA SEU CÓDIGO AQUI  ###############################\n",
        "ExG = np.ones( [4,3] )\n",
        "\n",
        "print('ExG: \\n', ExG)\n",
        "\n",
        "##########################################################################"
      ]
    },
    {
      "cell_type": "markdown",
      "metadata": {
        "id": "fAVKa3QpRnNb"
      },
      "source": [
        "**Ex. 8**. Crie uma função que retorne o fatorial de um número. Teste a função que você criou, calculando o fatorial de 8. \n",
        "\n",
        "Fórmula do fatorial: $n! = (1 * 2 * 3 * ... * (n-2) * (n-1) * n)$\n",
        "\n",
        "Obs: é obrigatório usar um laço `for`. \n",
        "\n",
        "Exemplos: \n",
        "* $1! = 1$\n",
        "* $2! = 1*2$\n",
        "* $3! = 1*2*3$\n",
        "* $4! = 1*2*3*4$\n",
        "* $5! = 1*2*3*4*5$"
      ]
    },
    {
      "cell_type": "code",
      "execution_count": 64,
      "metadata": {
        "id": "-088ckhpRnNc",
        "colab": {
          "base_uri": "https://localhost:8080/"
        },
        "outputId": "a7c3ba23-6672-480e-bda0-a872476a2c3e"
      },
      "outputs": [
        {
          "output_type": "stream",
          "name": "stdout",
          "text": [
            "8 8\n",
            "56 7\n",
            "336 6\n",
            "1680 5\n",
            "6720 4\n",
            "20160 3\n",
            "40320 2\n",
            "40320 1\n",
            "Resultado:  40320\n"
          ]
        }
      ],
      "source": [
        "################# ESCREVA SEU CÓDIGO AQUI  ###############################\n",
        "def fatorial(num):\n",
        "  n = 1\n",
        "  for i in range(num, 0, -1):\n",
        "    n = n * i\n",
        "    print(n, i)\n",
        "\n",
        "  return n  \n",
        "\n",
        "f = fatorial(8)    \n",
        "print('Resultado: ', f)   \n",
        "    \n",
        "##########################################################################"
      ]
    },
    {
      "cell_type": "markdown",
      "metadata": {
        "id": "NmtJwQMiRnNc"
      },
      "source": [
        "**Ex. 9.** Crie um retângulo na cor verde. Depois, desenhe a letra **E** maiúscula nesse retângulo com a cor vermelha."
      ]
    },
    {
      "cell_type": "code",
      "execution_count": 81,
      "metadata": {
        "id": "0IKrzn0NRnNc",
        "colab": {
          "base_uri": "https://localhost:8080/",
          "height": 265
        },
        "outputId": "a7212648-6d08-47a3-c76a-5b62e962f44b"
      },
      "outputs": [
        {
          "output_type": "display_data",
          "data": {
            "text/plain": [
              "<Figure size 432x288 with 1 Axes>"
            ],
            "image/png": "[encoded data removed]"
          },
          "metadata": {
            "needs_background": "light"
          }
        }
      ],
      "source": [
        "################# ESCREVA SEU CÓDIGO AQUI  ###############################\n",
        "img = np.zeros([7,6,3], dtype=int)\n",
        "\n",
        "img[ :, :, 1 ] = 255\n",
        "img[ 1:-1, 1:2 ] = [255,0,0]\n",
        "img[ 1:2, 1:-2 ] = [255,0,0]\n",
        "img[ 3:4, 1:-2 ] = [255,0,0]\n",
        "img[ 5:6, 1:-2 ] = [255,0,0]\n",
        "\n",
        "plt.imshow(img)\n",
        "plt.show() \n",
        "\n",
        "##########################################################################"
      ]
    }
  ],
  "metadata": {
    "kernelspec": {
      "display_name": "Python 3 (ipykernel)",
      "language": "python",
      "name": "python3"
    },
    "language_info": {
      "codemirror_mode": {
        "name": "ipython",
        "version": 3
      },
      "file_extension": ".py",
      "mimetype": "text/x-python",
      "name": "python",
      "nbconvert_exporter": "python",
      "pygments_lexer": "ipython3",
      "version": "3.9.13"
    },
    "vscode": {
      "interpreter": {
        "hash": "d8d3ff3e2b5334ad4397068f2512301b7247a0268b8f631cb00f1cdcbb1f6f82"
      }
    },
    "colab": {
      "provenance": [],
      "include_colab_link": true
    }
  },
  "nbformat": 4,
  "nbformat_minor": 0
}